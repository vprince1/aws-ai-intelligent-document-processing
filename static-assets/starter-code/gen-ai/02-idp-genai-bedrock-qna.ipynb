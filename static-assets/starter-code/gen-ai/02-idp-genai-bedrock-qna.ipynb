{
 "cells": [
  {
   "cell_type": "markdown",
   "id": "62a084d0-2c06-4483-9601-dab9188f3efa",
   "metadata": {},
   "source": [
    "# In-context Q&A with Intelligent Document Processing\n",
    "____\n",
    "\n",
    "<div class=\"alert alert-block alert-info\"> \n",
    "    <b>NOTE:</b> You will need to use a Jupyter Kernel with Python 3.9 or above to use this notebook. If you are in Amazon SageMaker Studio, you can use the \"Data Science 3.0\" image.\n",
    "</div>\n",
    "\n",
    "<div class=\"alert alert-block alert-warning\"> \n",
    "    <b>NOTE:</b> You will need 3rd party model access to Anthropic Claude V1 model, and Amazon Titan Embedding G1 Text model to be able to run this notebook. Verify if you have access to the models by going to <a href=\"https://console.aws.amazon.com/bedrock\" target=\"_blank\">Amazon Bedrock console</a> > left menu \"Model access\". The \"Access status\" for Anthropic Claude and Amazon Titan Embedding G1 Text must be in \"<span style=\"color:green;\">Access granted</span>\" status. If you do not have access, then click \"Edit\" button on the top right > select the model checkboxes > click \"Save changes\" button at the bottom. You should have access to the model within a few moments.\n",
    "</div>\n",
    "\n",
    "In this notebook we will walk through Q&A with a document first by extracting text from a document using Amazon Textract, generating chunks of text and store them into a Vector DB, and then performing Q&A with a Anthropic Claude model via Amazon Bedrock and get precise answers from the model. Later on, we will also implement a chat application with chat history to chat with documents."
   ]
  },
  {
   "cell_type": "code",
   "execution_count": null,
   "id": "b79ba775-1b63-4c23-b71e-2ae1a6676b82",
   "metadata": {
    "scrolled": true,
    "tags": []
   },
   "outputs": [],
   "source": [
    "!pip install -U boto3 langchain faiss-cpu transformers\n",
    "!pip install amazon-textract-textractor pypdf Pillow"
   ]
  },
  {
   "cell_type": "code",
   "execution_count": 170,
   "id": "e27db6c0-202c-4cb1-b639-eb11cabbcbfe",
   "metadata": {
    "tags": []
   },
   "outputs": [
    {
     "name": "stdout",
     "output_type": "stream",
     "text": [
      "sagemaker.config INFO - Not applying SDK defaults from location: /etc/xdg/sagemaker/config.yaml\n",
      "sagemaker.config INFO - Not applying SDK defaults from location: /root/.config/sagemaker/config.yaml\n",
      "sagemaker.config INFO - Not applying SDK defaults from location: /etc/xdg/sagemaker/config.yaml\n",
      "sagemaker.config INFO - Not applying SDK defaults from location: /root/.config/sagemaker/config.yaml\n",
      "SageMaker bucket is sagemaker-us-east-1-710096454740, and SageMaker Execution Role is arn:aws:iam::710096454740:role/service-role/AmazonSageMaker-ExecutionRole-20220504T135260\n"
     ]
    }
   ],
   "source": [
    "import json\n",
    "import os\n",
    "import sys\n",
    "import sagemaker\n",
    "import boto3\n",
    "\n",
    "role = sagemaker.get_execution_role()\n",
    "data_bucket = sagemaker.Session().default_bucket()\n",
    "bedrock = boto3.client('bedrock-runtime')\n",
    "br = boto3.client('bedrock')\n",
    "s3 = boto3.client(\"s3\")\n",
    "print(f\"SageMaker bucket is {data_bucket}, and SageMaker Execution Role is {role}\")"
   ]
  },
  {
   "cell_type": "markdown",
   "id": "7f85e962-e28e-4a1e-91f8-e7b9e527d894",
   "metadata": {},
   "source": [
    "## Upload sample data to S3 bucket\n",
    "\n",
    "\n",
    "The sample document is in `/samples` directory. For this workshop, we will be using a sample document."
   ]
  },
  {
   "cell_type": "code",
   "execution_count": 5,
   "id": "9f868164-f14e-4f54-99ae-fbdab7dfab5e",
   "metadata": {
    "tags": []
   },
   "outputs": [],
   "source": [
    "# Upload images to S3 bucket:\n",
    "\n",
    "!aws s3 cp samples s3://{data_bucket}/idp/genai --recursive --only-show-errors"
   ]
  },
  {
   "cell_type": "code",
   "execution_count": 171,
   "id": "3c640a5d-55d6-48ce-827e-d6176adc0075",
   "metadata": {
    "tags": []
   },
   "outputs": [
    {
     "name": "stdout",
     "output_type": "stream",
     "text": [
      "                           PRE .ipynb_checkpoints/\n",
      "2023-09-29 17:12:03     770065 bank_statement.jpg\n",
      "2023-09-29 17:12:03     232029 discharge-summary.png\n",
      "2023-09-29 17:12:03     224721 hand_written_note.pdf\n",
      "2023-09-29 17:12:03     108247 health_plan.pdf\n",
      "2023-09-29 17:12:03     781244 health_plan_pg1.png\n"
     ]
    }
   ],
   "source": [
    "!aws s3 ls s3://{data_bucket}/idp/genai/"
   ]
  },
  {
   "cell_type": "markdown",
   "id": "7919c918-efa5-446f-8504-de488ae22439",
   "metadata": {},
   "source": [
    "---\n",
    "# Perform Common sense reasoning and QA on a document\n",
    "\n",
    "In this section, we will perform common sense reasoning and Q&A on a document. This section does the following\n",
    "\n",
    "- Generates text from documents and stores them into S3 in plaintext format\n",
    "- Generate embeddings from the text\n",
    "- Uses an in-memory vector database to store the embeddings. In this case we will use [FAISS](https://ai.meta.com/tools/faiss/#:~:text=FAISS%20(Facebook%20AI%20Similarity%20Search,more%20scalable%20similarity%20search%20functions.).\n",
    "- Perform similarity search on the in-memory vector db to find relevant pieces of text that have relavancy to the asked question (by the user)\n",
    "- Generate the context for the LLM using the search results\n",
    "- Give the model the context and the original question asked\n",
    "- Get the answer back from the LLM\n",
    "- Profit\n",
    "\n",
    "> _\"Wait but that's a lot of steps just for getting an answer back? Why?\"_\n",
    "\n",
    "We would love to explain and dive deeper into why, but here's a paper that does a better job of explain the why? and the how? - https://arxiv.org/pdf/2005.11401.pdf . In short, LLMs know too much, _sometimes a bit too much that it may get confused and wander into the proverbial forest of it's own world knowledge and go start gathering firewood, when it was actually asked to go pick some fruit_. To solve this problem, and to get accurate/factual answers, we use this method of Retrieval-Augmented Generation (aka RAG), just to give the LLM a bit more _context_ to work with such that it gives us the desired output (like a fruit basket in our example, so that it knows it's only supposed to pick fruits) .\n",
    "\n",
    "As a first step, we read a file (document) using Amazon Textract using LangChain Textract Document Loader."
   ]
  },
  {
   "cell_type": "code",
   "execution_count": 9,
   "id": "c01d5f9e-3142-437b-a7ad-31bfd110a656",
   "metadata": {
    "scrolled": true,
    "tags": []
   },
   "outputs": [
    {
     "name": "stdout",
     "output_type": "stream",
     "text": [
      "Textract extracted 5 pages from the document\n"
     ]
    }
   ],
   "source": [
    "from langchain.document_loaders import AmazonTextractPDFLoader\n",
    "loader = AmazonTextractPDFLoader(f\"s3://{data_bucket}/idp/genai/health_plan.pdf\")\n",
    "document = loader.load()\n",
    "print(f\"Textract extracted {len(document)} pages from the document\")"
   ]
  },
  {
   "cell_type": "markdown",
   "id": "d125a6d5-34f1-49be-b5f5-290cd495f1ae",
   "metadata": {},
   "source": [
    "Let's look at the extracted text"
   ]
  },
  {
   "cell_type": "code",
   "execution_count": 10,
   "id": "e0f2f938-7fde-4cc3-898d-c75237f0f019",
   "metadata": {
    "scrolled": true,
    "tags": []
   },
   "outputs": [
    {
     "name": "stdout",
     "output_type": "stream",
     "text": [
      "=========Page 1==========\n",
      "Health Benefit Summary Plan Description Revised 01-01-2022 BENEFITS Healthcare Policy Plan Vision: To provide high quality, affordable healthcare for all citizens. Mission: To implement policy reforms and programs that expand access to healthcare, reduce costs, and improve health outcomes. Goals: 1. Achieve universal healthcare coverage. Provide health insurance for all citizens regardless of income or health status. 2. Reduce healthcare costs for individuals and government. Implement policies and programs to lower premiums, out-of-pocket costs, and overall healthcare spending. 3. Improve population health. Invest in public health programs and prevention to promote healthy lifestyles, reduce health risks, and improve health outcomes. 4. Support healthcare innovation. Invest in research and new technologies to improve treatments, cures, and the healthcare system. Policy Reforms: 1. Establish a public healthcare option. Provide a government-run health plan to compete with private insurers and drive down costs. 2. Expand Medicaid coverage. Increase income eligibility limits for Medicaid to extend coverage to more low-income individuals. 3. Require insurance companies to cover pre-existing conditions. Prohibit denial of coverage or higher premiums due to health status. 4. Increase healthcare subsidies and tax credits. Make health insurance more affordable for middle- income individuals and families. 5. Invest in preventive care and public health. Increase Health Benefit Summary Plan Description Revised 01-01-2022 BENEFITS Healthcare Policy Plan Vision: To provide high quality, affordable healthcare for all citizens. Mission: To implement policy reforms and programs that expand access to healthcare, reduce costs, and improve health outcomes. Goals: 1. Achieve universal healthcare coverage. Provide health insurance for all citizens regardless of income or health status. 2. Reduce healthcare costs for individuals and government. Implement policies and programs to lower premiums, out-of-pocket costs, and overall healthcare spending. 3. Improve population health. Invest in public health programs and prevention to promote healthy lifestyles, reduce health risks, and improve health outcomes. 4. Support healthcare innovation. Invest in research and new technologies to improve treatments, cures, and the healthcare system. Policy Reforms: 1. Establish a public healthcare option. Provide a government-run health plan to compete with private insurers and drive down costs. 2. Expand Medicaid coverage. Increase income eligibility limits for Medicaid to extend coverage to more low-income individuals. 3. Require insurance companies to cover pre-existing conditions. Prohibit denial of coverage or higher premiums due to health status. 4. Increase healthcare subsidies and tax credits. Make health insurance more affordable for middle- income individuals and families. 5. Invest in preventive care and public health. Increase \n",
      "\n",
      "\n",
      "=========Page 2==========\n",
      "The purpose of this document is to provide You and Your covered Dependents, if any, with summary information in English on benefits available under this Plan as well as with information on a Covered Person's rights and obligations under the ANYCOMPANY, INC. Group Health Benefit Plan (the \"Plan\"). You are a valued Employee of ANYCOMPANY, INC., and Your employer is pleased to sponsor this Plan to provide benefits that can help meet Your health care needs. Please read this document carefully and contact Your Human Resources or Personnel office if You have questions or if You have difficulty translating this document. ANYCOMPANY, INC. is named the Plan Administrator for this Plan. The Plan Administrator has retained the services of independent Third Party Administrators to process claims and handle other duties for this self-funded Plan. The Third Party Administrators for this Plan are UMR, Inc. (hereinafter \"UMR\") for medical claims, and Express Scripts for pharmacy claims. The Third Party Administrators do not assume liability for benefits payable under this Plan, since they are solely claims-paying agents for the Plan Administrator. The employer assumes the sole responsibility for funding the Plan benefits out of general assets; however, Employees help cover some of the costs of covered benefits through contributions, Deductibles, out-of-pocket amounts, and Plan Participation amounts as described in the Schedule of Benefits. All claim payments and reimbursements are paid out of the general assets of the employer and there is no separate fund that is used to pay promised benefits. The Plan is intended to comply with and be governed by the Employee Retirement Income Security Act of 1974 (ERISA) and its amendments. Some of the terms used in this document begin with capital letters, even though such terms normally would not be capitalized. These terms have special meaning under the Plan. Most capitalized terms are listed in the Glossary of Terms, but some are defined within the provisions in which they are used. Becoming familiar with the terms defined in the Glossary of Terms will help You to better understand the provisions of this Plan. Each individual covered under this Plan will be receiving an identification card that he or she may present to providers whenever he or she receives services. On the back of this card are phone numbers to call in case of questions or problems. This document contains information on the benefits and limitations of the Plan and will serve as both the Summary Plan Description (SPD) and Plan document. Therefore it will be referred to as both the SPD and the Plan document. It is being furnished to You in accordance with ABC. This document became effective on January 1, 2019. PLAN INFORMATION Plan Name ANYCOMPANY INC Name And Address Of Employer ANYCOMPANY, INC 123 ANY STREET ANY CITY CA, 92127 Name, Address, And Phone Number ANYCOMPANY, INC Of Plan Administrator 123 ANY STREET ANY CITY CA, 92127 866-648-0044 Named Fiduciary ANYCOMPANY, INC. Claims Appeal Fiduciary For Medical Claims UMR Employer Identification Number Assigned By 12-34567890 The IRS Plan Number Assigned By The Plan 511 Type Of Benefit Plan Provided Self-funded Health and Welfare Plan providing group health benefits. The purpose of this document is to provide You and Your covered Dependents, if any, with summary information in English on benefits available under this Plan as well as with information on a Covered Person's rights and obligations under the ANYCOMPANY, INC. Group Health Benefit Plan (the \"Plan\"). You are a valued Employee of ANYCOMPANY, INC., and Your employer is pleased to sponsor this Plan to provide benefits that can help meet Your health care needs. Please read this document carefully and contact Your Human Resources or Personnel office if You have questions or if You have difficulty translating this document. ANYCOMPANY, INC. is named the Plan Administrator for this Plan. The Plan Administrator has retained the services of independent Third Party Administrators to process claims and handle other duties for this self-funded Plan. The Third Party Administrators for this Plan are UMR, Inc. (hereinafter \"UMR\") for medical claims, and Express Scripts for pharmacy claims. The Third Party Administrators do not assume liability for benefits payable under this Plan, since they are solely claims-paying agents for the Plan Administrator. The employer assumes the sole responsibility for funding the Plan benefits out of general assets; however, Employees help cover some of the costs of covered benefits through contributions, Deductibles, out-of-pocket amounts, and Plan Participation amounts as described in the Schedule of Benefits. All claim payments and reimbursements are paid out of the general assets of the employer and there is no separate fund that is used to pay promised benefits. The Plan is intended to comply with and be governed by the Employee Retirement Income Security Act of 1974 (ERISA) and its amendments. Some of the terms used in this document begin with capital letters, even though such terms normally would not be capitalized. These terms have special meaning under the Plan. Most capitalized terms are listed in the Glossary of Terms, but some are defined within the provisions in which they are used. Becoming familiar with the terms defined in the Glossary of Terms will help You to better understand the provisions of this Plan. Each individual covered under this Plan will be receiving an identification card that he or she may present to providers whenever he or she receives services. On the back of this card are phone numbers to call in case of questions or problems. This document contains information on the benefits and limitations of the Plan and will serve as both the Summary Plan Description (SPD) and Plan document. Therefore it will be referred to as both the SPD and the Plan document. It is being furnished to You in accordance with ABC. This document became effective on January 1, 2019. PLAN INFORMATION Plan Name ANYCOMPANY INC Name And Address Of Employer ANYCOMPANY, INC 123 ANY STREET ANY CITY CA, 92127 Name, Address, And Phone Number ANYCOMPANY, INC Of Plan Administrator 123 ANY STREET ANY CITY CA, 92127 866-648-0044 Named Fiduciary ANYCOMPANY, INC. Claims Appeal Fiduciary For Medical Claims UMR Employer Identification Number Assigned By 12-34567890 The IRS Plan Number Assigned By The Plan 511 Type Of Benefit Plan Provided Self-funded Health and Welfare Plan providing group health benefits. \n",
      "\n",
      "\n",
      "=========Page 3==========\n",
      "Type Of Administration The administration of the Plan is under the supervision of the Plan Administrator. The Plan is not financed by an insurance company and benefits are not guaranteed by a contract of insurance. Name And Address Of Agent For Service Of ANYCOMPANY, INC Legal Process 123 ANY STREET ANY CITY CA, 92127 Funding Of The Plan Employer and Employee Contributions Benefits are provided by a benefit Plan maintained on a self-insured basis by Your employer. Benefit Plan Year Benefits begin on January 1 and end on the following December 31. For new Employees and Dependents, a Benefit Plan Year begins on the individual's Effective Date and runs through December 31 of the same Benefit Plan Year. Plan Year January 1 through December 31 And Other Federal Compliance It is intended that this Plan comply with all applicable requirements of ABC and other federal regulations. In the event of any conflict between this Plan and ABC or other federal regulations, the provisions of ABC and the federal regulations will be deemed controlling, and any conflicting part of this Plan will be deemed superseded to the extent of the conflict. Benefit Plan(s) 001 All health benefits shown on this Schedule of Benefits are subject to the following: Deductibles, Co-pays, Plan Participation rates, and out-of-pocket maximums, if any. Refer to the Out-of-Pocket Expenses and Maximums section of this SPD for more details. Benefits listed in this Schedule of Benefits are subject to all provisions of the Plan, including any benefit determination based on an evaluation of medical facts and covered benefits. Refer to the Covered Medical Benefits and General Exclusions sections of this SPD for more details. Important: Prior authorization may be required before benefits will be considered for payment. Failure to obtain prior authorization may result in a penalty or increased out-of-pocket costs. Refer to the Care Coordination Process section of this SPD for a description of these services and prior authorization procedures. Note: Refer to the Provider Network section for clarifications and possible exceptions to the in-network or out-of-network classifications. If a benefit maximum is listed in the middle of a column on the Schedule of Benefits, it is a combined Maximum Benefit for services that the Covered Person receives from all in-network and out-of-network providers and facilities. IN-NETWORK Annual deductible per calendar year per person is $5000 and per family deductible per calendar year is $10,000, and individual embedded deductible is $5000. Type Of Administration The administration of the Plan is under the supervision of the Plan Administrator. The Plan is not financed by an insurance company and benefits are not guaranteed by a contract of insurance. Name And Address Of Agent For Service Of ANYCOMPANY, INC Legal Process 123 ANY STREET ANY CITY CA, 92127 Funding Of The Plan Employer and Employee Contributions Benefits are provided by a benefit Plan maintained on a self-insured basis by Your employer. Benefit Plan Year Benefits begin on January 1 and end on the following December 31. For new Employees and Dependents, a Benefit Plan Year begins on the individual's Effective Date and runs through December 31 of the same Benefit Plan Year. Plan Year January 1 through December 31 And Other Federal Compliance It is intended that this Plan comply with all applicable requirements of ABC and other federal regulations. In the event of any conflict between this Plan and ABC or other federal regulations, the provisions of ABC and the federal regulations will be deemed controlling, and any conflicting part of this Plan will be deemed superseded to the extent of the conflict. Benefit Plan(s) 001 All health benefits shown on this Schedule of Benefits are subject to the following: Deductibles, Co-pays, Plan Participation rates, and out-of-pocket maximums, if any. Refer to the Out-of-Pocket Expenses and Maximums section of this SPD for more details. Benefits listed in this Schedule of Benefits are subject to all provisions of the Plan, including any benefit determination based on an evaluation of medical facts and covered benefits. Refer to the Covered Medical Benefits and General Exclusions sections of this SPD for more details. Important: Prior authorization may be required before benefits will be considered for payment. Failure to obtain prior authorization may result in a penalty or increased out-of-pocket costs. Refer to the Care Coordination Process section of this SPD for a description of these services and prior authorization procedures. Note: Refer to the Provider Network section for clarifications and possible exceptions to the in-network or out-of-network classifications. If a benefit maximum is listed in the middle of a column on the Schedule of Benefits, it is a combined Maximum Benefit for services that the Covered Person receives from all in-network and out-of-network providers and facilities. IN-NETWORK Annual deductible per calendar year per person is $5000 and per family deductible per calendar year is $10,000, and individual embedded deductible is $5000. \n",
      "\n",
      "\n",
      "=========Page 4==========\n",
      "Note: Embedded Deductible Means That If You Have Family Coverage, Any Combination Of Covered Family Members May Help Meet The Maximum Family Deductible; However, No One Person Will Pay More Than His Or Her Embedded Individual Deductible Amount. Annual Total Out-Of-Pocket Maximum: Note: Medical And Pharmacy Expenses Are Subject To The Same Out-Of-Pocket Maximum. Pharmacy out of pocket maximum per person is $6000 and for family out of pocket maximum is $12000 Note: Embedded Out-Of-Pocket Maximum Means That If You Have Family Coverage, Any Combination Of Covered Family Members May Help Meet The Family Out-Of-Pocket Maximum; However, No One Person Will Pay More Than His Or Her Embedded Individual Out-Of-Pocket Maximum Amount. OUT-OF-POCKET EXPENSES AND MAXIMUMS Benefit Plan(s) 001, 002, 005 CO-PAYS A Co-pay is the amount that the Covered Person pays each time certain services are received. The Co- pay is typically a flat dollar amount and is paid at the time of service or when billed by the provider. Co- pays do not apply toward satisfaction of Deductibles. Co-pays apply toward satisfaction of in-network and out-of-network out-of-pocket maximums. The Co-pay and out-of-pocket maximum are shown on the Schedule of Benefits. DEDUCTIBLES A Deductible is an amount of money paid once per Plan Year by the Covered Person before any Covered Expenses are paid by this Plan. A Deductible applies to each Covered Person up to a family Deductible limit. When a new Plan Year begins, a new Deductible must be satisfied. Deductible amounts are shown on the Schedule of Benefits. Pharmacy expenses do not count toward meeting the Deductible of this Plan. The Deductible amounts that the Covered Person Incurs for Covered Expenses will be used to satisfy the Deductible(s) shown on the Schedule of Benefits. The Deductible amounts that the Covered Person Incurs at an in-network provider will apply to the in- network total individual and family Deductible. The Deductible amounts that the Covered Person Incurs at an out-of-network provider will apply to the out-of-network total individual and family Deductible. PLAN PARTICIPATION Plan Participation is the percentage of Covered Expenses that the Covered Person is responsible for paying after the Deductible is met. The Covered Person pays this percentage until the Covered Person's (or family's, if applicable) annual out-of-pocket maximum is reached. The Plan Participation rate is shown on the Schedule of Benefits. Any payment for an expense that is not covered under this Plan will be the Covered Person's responsibility. ANNUAL OUT-OF-POCKET MAXIMUMS The annual out-of-pocket maximum is the most the Covered Person pays each year for Covered Expenses. There are separate in-network and out-of-network out-of-pocket maximums for this Plan. Annual out-of-pocket maximums are shown on the Schedule of Benefits. Amounts the Covered Person Incurs for Covered Expenses will be used to satisfy the Covered Person's (or family's, if applicable) annual out-of-pocket maximum(s). If the Covered Person's out-of-pocket expenses in a Plan Year exceed the annual out-of-pocket maximum, the Plan pays 100% of the Covered Expenses through the end of the Plan Year. The following will not be used to meet the out-of-pocket maximums: _Penalties, legal fees and interest charged by a provider. Any amounts over the Recognized Amount, Usual and Customary amount, Negotiated Rate or established fee schedule that this Plan pays. Note: Embedded Deductible Means That If You Have Family Coverage, Any Combination Of Covered Family Members May Help Meet The Maximum Family Deductible; However, No One Person Will Pay More Than His Or Her Embedded Individual Deductible Amount. Annual Total Out-Of-Pocket Maximum: Note: Medical And Pharmacy Expenses Are Subject To The Same Out-Of-Pocket Maximum. Pharmacy out of pocket maximum per person is $6000 and for family out of pocket maximum is $12000 Note: Embedded Out-Of-Pocket Maximum Means That If You Have Family Coverage, Any Combination Of Covered Family Members May Help Meet The Family Out-Of-Pocket Maximum; However, No One Person Will Pay More Than His Or Her Embedded Individual Out-Of-Pocket Maximum Amount. OUT-OF-POCKET EXPENSES AND MAXIMUMS Benefit Plan(s) 001, 002, 005 CO-PAYS A Co-pay is the amount that the Covered Person pays each time certain services are received. The Co- pay is typically a flat dollar amount and is paid at the time of service or when billed by the provider. Co- pays do not apply toward satisfaction of Deductibles. Co-pays apply toward satisfaction of in-network and out-of-network out-of-pocket maximums. The Co-pay and out-of-pocket maximum are shown on the Schedule of Benefits. DEDUCTIBLES A Deductible is an amount of money paid once per Plan Year by the Covered Person before any Covered Expenses are paid by this Plan. A Deductible applies to each Covered Person up to a family Deductible limit. When a new Plan Year begins, a new Deductible must be satisfied. Deductible amounts are shown on the Schedule of Benefits. Pharmacy expenses do not count toward meeting the Deductible of this Plan. The Deductible amounts that the Covered Person Incurs for Covered Expenses will be used to satisfy the Deductible(s) shown on the Schedule of Benefits. The Deductible amounts that the Covered Person Incurs at an in-network provider will apply to the in- network total individual and family Deductible. The Deductible amounts that the Covered Person Incurs at an out-of-network provider will apply to the out-of-network total individual and family Deductible. PLAN PARTICIPATION Plan Participation is the percentage of Covered Expenses that the Covered Person is responsible for paying after the Deductible is met. The Covered Person pays this percentage until the Covered Person's (or family's, if applicable) annual out-of-pocket maximum is reached. The Plan Participation rate is shown on the Schedule of Benefits. Any payment for an expense that is not covered under this Plan will be the Covered Person's responsibility. ANNUAL OUT-OF-POCKET MAXIMUMS The annual out-of-pocket maximum is the most the Covered Person pays each year for Covered Expenses. There are separate in-network and out-of-network out-of-pocket maximums for this Plan. Annual out-of-pocket maximums are shown on the Schedule of Benefits. Amounts the Covered Person Incurs for Covered Expenses will be used to satisfy the Covered Person's (or family's, if applicable) annual out-of-pocket maximum(s). If the Covered Person's out-of-pocket expenses in a Plan Year exceed the annual out-of-pocket maximum, the Plan pays 100% of the Covered Expenses through the end of the Plan Year. The following will not be used to meet the out-of-pocket maximums: _Penalties, legal fees and interest charged by a provider. Any amounts over the Recognized Amount, Usual and Customary amount, Negotiated Rate or established fee schedule that this Plan pays. \n",
      "\n",
      "\n",
      "=========Page 5==========\n",
      "NO FORGIVENESS OF OUT-OF-POCKET EXPENSES The Covered Person is required to pay the out-of-pocket expenses (including Deductibles, Co-pays or required Plan Participation) under the terms of this Plan. The requirement that You and Your Dependent(s) pay the applicable out-of-pocket expenses cannot be waived by a provider under any \"fee forgiveness\", \"not out-of-pocket\" or similar arrangement. If a provider waives the required out-of-pocket expenses, the Covered Person's claim may be denied and the Covered Person will be responsible for payment of the entire claim. The claim(s) may be reconsidered if the Covered Person provides satisfactory proof that he or she paid the out-of-pocket expenses under the terms of this Plan. OUT-OF-POCKET EXPENSES AND MAXIMUMS Benefit Plan(s) 003, 004 DEDUCTIBLES A Deductible is an amount of money paid once per Plan Year by the Covered Person before any Covered Expenses are paid by this Plan. A Deductible applies to each Covered Person up to a family Deductible limit. When a new Plan Year begins, a new Deductible must be satisfied. Deductible amounts are shown on the Schedule of Benefits. Generally, the applicable Deductible must be met before any benefits will be paid under this Plan. However, certain covered benefits may be considered Preventive / Routine Care and paid first dollar. The Deductible amounts that the Covered Person Incurs for Covered Expenses, including covered Pharmacy expenses, will be used to satisfy the Deductible(s) shown on the Schedule of Benefits. The Deductible amounts that the Covered Person Incurs at an in-network provider will apply to the in- network total individual and family Deductible. The Deductible amounts that the Covered Person Incurs at an out-of-network provider will apply to the out-of-network total individual and family Deductible. NO FORGIVENESS OF OUT-OF-POCKET EXPENSES The Covered Person is required to pay the out-of-pocket expenses (including Deductibles, Co-pays or required Plan Participation) under the terms of this Plan. The requirement that You and Your Dependent(s) pay the applicable out-of-pocket expenses cannot be waived by a provider under any \"fee forgiveness\", \"not out-of-pocket\" or similar arrangement. If a provider waives the required out-of-pocket expenses, the Covered Person's claim may be denied and the Covered Person will be responsible for payment of the entire claim. The claim(s) may be reconsidered if the Covered Person provides satisfactory proof that he or she paid the out-of-pocket expenses under the terms of this Plan. OUT-OF-POCKET EXPENSES AND MAXIMUMS Benefit Plan(s) 003, 004 DEDUCTIBLES A Deductible is an amount of money paid once per Plan Year by the Covered Person before any Covered Expenses are paid by this Plan. A Deductible applies to each Covered Person up to a family Deductible limit. When a new Plan Year begins, a new Deductible must be satisfied. Deductible amounts are shown on the Schedule of Benefits. Generally, the applicable Deductible must be met before any benefits will be paid under this Plan. However, certain covered benefits may be considered Preventive / Routine Care and paid first dollar. The Deductible amounts that the Covered Person Incurs for Covered Expenses, including covered Pharmacy expenses, will be used to satisfy the Deductible(s) shown on the Schedule of Benefits. The Deductible amounts that the Covered Person Incurs at an in-network provider will apply to the in- network total individual and family Deductible. The Deductible amounts that the Covered Person Incurs at an out-of-network provider will apply to the out-of-network total individual and family Deductible. \n",
      "\n",
      "\n"
     ]
    }
   ],
   "source": [
    "for index,page in enumerate(document):\n",
    "    print(f\"=========Page {index+1}==========\")\n",
    "    print(page.page_content)\n",
    "    print(\"\\n\")"
   ]
  },
  {
   "cell_type": "markdown",
   "id": "ab1cbf51-1409-4d5e-9201-101290622fb1",
   "metadata": {},
   "source": [
    "Now that we have extracted the document, we split the document into smaller chunks, this is required because we may have a large multi-page document and our LLMs may have token limits. It will also ensure that we only get the relevant parts of the document to build the context instead of full page texts. Then these chunks will be loaded into the Vector DB for performing similarity search in the subsequent steps. \n",
    "\n",
    "However, before we store the document in the VectorDB, we will have to generate embeddings on the text. We use `HuggingFaceEmbeddings`  which is built into LangChain, for that purpose. For other models you may chose embedding models accordingly as suggested by the model provider. Let's start by splitting the document into smaller chunks"
   ]
  },
  {
   "cell_type": "code",
   "execution_count": 11,
   "id": "7f7f860e-f26e-468d-963f-ca7c557435c2",
   "metadata": {
    "scrolled": true,
    "tags": []
   },
   "outputs": [
    {
     "name": "stdout",
     "output_type": "stream",
     "text": [
      "==== Chunk 1, From Page 1 ====\n",
      "Health Benefit Summary Plan Description Revised 01-01-2022 BENEFITS Healthcare Policy Plan Vision: To provide high quality, affordable healthcare for all citizens. Mission: To implement policy reforms and programs that expand access to healthcare, reduce costs, and improve health outcomes. Goals: 1. Achieve universal healthcare coverage\n",
      "\n",
      "\n",
      "==== Chunk 2, From Page 1 ====\n",
      ". Provide health insurance for all citizens regardless of income or health status. 2. Reduce healthcare costs for individuals and government. Implement policies and programs to lower premiums, out-of-pocket costs, and overall healthcare spending. 3. Improve population health\n",
      "\n",
      "\n",
      "==== Chunk 3, From Page 1 ====\n",
      ". Invest in public health programs and prevention to promote healthy lifestyles, reduce health risks, and improve health outcomes. 4. Support healthcare innovation. Invest in research and new technologies to improve treatments, cures, and the healthcare system. Policy Reforms: 1. Establish a public healthcare option\n",
      "\n",
      "\n",
      "==== Chunk 4, From Page 1 ====\n",
      ". Provide a government-run health plan to compete with private insurers and drive down costs. 2. Expand Medicaid coverage. Increase income eligibility limits for Medicaid to extend coverage to more low-income individuals. 3. Require insurance companies to cover pre-existing conditions. Prohibit denial of coverage or higher premiums due to health status. 4\n",
      "\n",
      "\n",
      "==== Chunk 5, From Page 1 ====\n",
      ". Increase healthcare subsidies and tax credits. Make health insurance more affordable for middle- income individuals and families. 5. Invest in preventive care and public health. Increase Health Benefit Summary Plan Description Revised 01-01-2022 BENEFITS Healthcare Policy Plan Vision: To provide high quality, affordable healthcare for all citizens\n",
      "\n",
      "\n",
      "==== Chunk 6, From Page 1 ====\n",
      ". Mission: To implement policy reforms and programs that expand access to healthcare, reduce costs, and improve health outcomes. Goals: 1. Achieve universal healthcare coverage. Provide health insurance for all citizens regardless of income or health status. 2. Reduce healthcare costs for individuals and government\n",
      "\n",
      "\n",
      "==== Chunk 7, From Page 1 ====\n",
      ". Implement policies and programs to lower premiums, out-of-pocket costs, and overall healthcare spending. 3. Improve population health. Invest in public health programs and prevention to promote healthy lifestyles, reduce health risks, and improve health outcomes. 4. Support healthcare innovation. Invest in research and new technologies to improve treatments, cures, and the healthcare system\n",
      "\n",
      "\n",
      "==== Chunk 8, From Page 1 ====\n",
      ". Policy Reforms: 1. Establish a public healthcare option. Provide a government-run health plan to compete with private insurers and drive down costs. 2. Expand Medicaid coverage. Increase income eligibility limits for Medicaid to extend coverage to more low-income individuals. 3. Require insurance companies to cover pre-existing conditions\n",
      "\n",
      "\n",
      "==== Chunk 9, From Page 1 ====\n",
      ". Prohibit denial of coverage or higher premiums due to health status. 4. Increase healthcare subsidies and tax credits. Make health insurance more affordable for middle- income individuals and families. 5. Invest in preventive care and public health. Increase\n",
      "\n",
      "\n",
      "==== Chunk 10, From Page 2 ====\n",
      "The purpose of this document is to provide You and Your covered Dependents, if any, with summary information in English on benefits available under this Plan as well as with information on a Covered Person's rights and obligations under the ANYCOMPANY, INC. Group Health Benefit Plan (the \"Plan\"). You are a valued Employee of ANYCOMPANY, INC\n",
      "\n",
      "\n",
      "==== Chunk 11, From Page 2 ====\n",
      "., and Your employer is pleased to sponsor this Plan to provide benefits that can help meet Your health care needs. Please read this document carefully and contact Your Human Resources or Personnel office if You have questions or if You have difficulty translating this document. ANYCOMPANY, INC. is named the Plan Administrator for this Plan\n",
      "\n",
      "\n",
      "==== Chunk 12, From Page 2 ====\n",
      ". The Plan Administrator has retained the services of independent Third Party Administrators to process claims and handle other duties for this self-funded Plan. The Third Party Administrators for this Plan are UMR, Inc. (hereinafter \"UMR\") for medical claims, and Express Scripts for pharmacy claims\n",
      "\n",
      "\n",
      "==== Chunk 13, From Page 2 ====\n",
      ". The Third Party Administrators do not assume liability for benefits payable under this Plan, since they are solely claims-paying agents for the Plan Administrator\n",
      "\n",
      "\n",
      "==== Chunk 14, From Page 2 ====\n",
      ". The employer assumes the sole responsibility for funding the Plan benefits out of general assets; however, Employees help cover some of the costs of covered benefits through contributions, Deductibles, out-of-pocket amounts, and Plan Participation amounts as described in the Schedule of Benefits\n",
      "\n",
      "\n",
      "==== Chunk 15, From Page 2 ====\n",
      ". All claim payments and reimbursements are paid out of the general assets of the employer and there is no separate fund that is used to pay promised benefits. The Plan is intended to comply with and be governed by the Employee Retirement Income Security Act of 1974 (ERISA) and its amendments\n",
      "\n",
      "\n",
      "==== Chunk 16, From Page 2 ====\n",
      ". Some of the terms used in this document begin with capital letters, even though such terms normally would not be capitalized. These terms have special meaning under the Plan. Most capitalized terms are listed in the Glossary of Terms, but some are defined within the provisions in which they are used\n",
      "\n",
      "\n",
      "==== Chunk 17, From Page 2 ====\n",
      ". Becoming familiar with the terms defined in the Glossary of Terms will help You to better understand the provisions of this Plan. Each individual covered under this Plan will be receiving an identification card that he or she may present to providers whenever he or she receives services. On the back of this card are phone numbers to call in case of questions or problems\n",
      "\n",
      "\n",
      "==== Chunk 18, From Page 2 ====\n",
      ". This document contains information on the benefits and limitations of the Plan and will serve as both the Summary Plan Description (SPD) and Plan document. Therefore it will be referred to as both the SPD and the Plan document. It is being furnished to You in accordance with ABC. This document became effective on January 1, 2019\n",
      "\n",
      "\n",
      "==== Chunk 19, From Page 2 ====\n",
      ". PLAN INFORMATION Plan Name ANYCOMPANY INC Name And Address Of Employer ANYCOMPANY, INC 123 ANY STREET ANY CITY CA, 92127 Name, Address, And Phone Number ANYCOMPANY, INC Of Plan Administrator 123 ANY STREET ANY CITY CA, 92127 866-648-0044 Named Fiduciary ANYCOMPANY, INC\n",
      "\n",
      "\n",
      "==== Chunk 20, From Page 2 ====\n",
      ". Claims Appeal Fiduciary For Medical Claims UMR Employer Identification Number Assigned By 12-34567890 The IRS Plan Number Assigned By The Plan 511 Type Of Benefit Plan Provided Self-funded Health and Welfare Plan providing group health benefits\n",
      "\n",
      "\n",
      "==== Chunk 21, From Page 2 ====\n",
      ". The purpose of this document is to provide You and Your covered Dependents, if any, with summary information in English on benefits available under this Plan as well as with information on a Covered Person's rights and obligations under the ANYCOMPANY, INC. Group Health Benefit Plan (the \"Plan\"). You are a valued Employee of ANYCOMPANY, INC\n",
      "\n",
      "\n",
      "==== Chunk 22, From Page 2 ====\n",
      "., and Your employer is pleased to sponsor this Plan to provide benefits that can help meet Your health care needs. Please read this document carefully and contact Your Human Resources or Personnel office if You have questions or if You have difficulty translating this document. ANYCOMPANY, INC. is named the Plan Administrator for this Plan\n",
      "\n",
      "\n",
      "==== Chunk 23, From Page 2 ====\n",
      ". The Plan Administrator has retained the services of independent Third Party Administrators to process claims and handle other duties for this self-funded Plan. The Third Party Administrators for this Plan are UMR, Inc. (hereinafter \"UMR\") for medical claims, and Express Scripts for pharmacy claims\n",
      "\n",
      "\n",
      "==== Chunk 24, From Page 2 ====\n",
      ". The Third Party Administrators do not assume liability for benefits payable under this Plan, since they are solely claims-paying agents for the Plan Administrator\n",
      "\n",
      "\n",
      "==== Chunk 25, From Page 2 ====\n",
      ". The employer assumes the sole responsibility for funding the Plan benefits out of general assets; however, Employees help cover some of the costs of covered benefits through contributions, Deductibles, out-of-pocket amounts, and Plan Participation amounts as described in the Schedule of Benefits\n",
      "\n",
      "\n",
      "==== Chunk 26, From Page 2 ====\n",
      ". All claim payments and reimbursements are paid out of the general assets of the employer and there is no separate fund that is used to pay promised benefits. The Plan is intended to comply with and be governed by the Employee Retirement Income Security Act of 1974 (ERISA) and its amendments\n",
      "\n",
      "\n",
      "==== Chunk 27, From Page 2 ====\n",
      ". Some of the terms used in this document begin with capital letters, even though such terms normally would not be capitalized. These terms have special meaning under the Plan. Most capitalized terms are listed in the Glossary of Terms, but some are defined within the provisions in which they are used\n",
      "\n",
      "\n",
      "==== Chunk 28, From Page 2 ====\n",
      ". Becoming familiar with the terms defined in the Glossary of Terms will help You to better understand the provisions of this Plan. Each individual covered under this Plan will be receiving an identification card that he or she may present to providers whenever he or she receives services. On the back of this card are phone numbers to call in case of questions or problems\n",
      "\n",
      "\n",
      "==== Chunk 29, From Page 2 ====\n",
      ". This document contains information on the benefits and limitations of the Plan and will serve as both the Summary Plan Description (SPD) and Plan document. Therefore it will be referred to as both the SPD and the Plan document. It is being furnished to You in accordance with ABC. This document became effective on January 1, 2019\n",
      "\n",
      "\n",
      "==== Chunk 30, From Page 2 ====\n",
      ". PLAN INFORMATION Plan Name ANYCOMPANY INC Name And Address Of Employer ANYCOMPANY, INC 123 ANY STREET ANY CITY CA, 92127 Name, Address, And Phone Number ANYCOMPANY, INC Of Plan Administrator 123 ANY STREET ANY CITY CA, 92127 866-648-0044 Named Fiduciary ANYCOMPANY, INC\n",
      "\n",
      "\n",
      "==== Chunk 31, From Page 2 ====\n",
      ". Claims Appeal Fiduciary For Medical Claims UMR Employer Identification Number Assigned By 12-34567890 The IRS Plan Number Assigned By The Plan 511 Type Of Benefit Plan Provided Self-funded Health and Welfare Plan providing group health benefits.\n",
      "\n",
      "\n",
      "==== Chunk 32, From Page 3 ====\n",
      "Type Of Administration The administration of the Plan is under the supervision of the Plan Administrator. The Plan is not financed by an insurance company and benefits are not guaranteed by a contract of insurance\n",
      "\n",
      "\n",
      "==== Chunk 33, From Page 3 ====\n",
      ". Name And Address Of Agent For Service Of ANYCOMPANY, INC Legal Process 123 ANY STREET ANY CITY CA, 92127 Funding Of The Plan Employer and Employee Contributions Benefits are provided by a benefit Plan maintained on a self-insured basis by Your employer. Benefit Plan Year Benefits begin on January 1 and end on the following December 31\n",
      "\n",
      "\n",
      "==== Chunk 34, From Page 3 ====\n",
      ". For new Employees and Dependents, a Benefit Plan Year begins on the individual's Effective Date and runs through December 31 of the same Benefit Plan Year. Plan Year January 1 through December 31 And Other Federal Compliance It is intended that this Plan comply with all applicable requirements of ABC and other federal regulations\n",
      "\n",
      "\n",
      "==== Chunk 35, From Page 3 ====\n",
      ". In the event of any conflict between this Plan and ABC or other federal regulations, the provisions of ABC and the federal regulations will be deemed controlling, and any conflicting part of this Plan will be deemed superseded to the extent of the conflict\n",
      "\n",
      "\n",
      "==== Chunk 36, From Page 3 ====\n",
      ". Benefit Plan(s) 001 All health benefits shown on this Schedule of Benefits are subject to the following: Deductibles, Co-pays, Plan Participation rates, and out-of-pocket maximums, if any. Refer to the Out-of-Pocket Expenses and Maximums section of this SPD for more details\n",
      "\n",
      "\n",
      "==== Chunk 37, From Page 3 ====\n",
      ". Benefits listed in this Schedule of Benefits are subject to all provisions of the Plan, including any benefit determination based on an evaluation of medical facts and covered benefits. Refer to the Covered Medical Benefits and General Exclusions sections of this SPD for more details. Important: Prior authorization may be required before benefits will be considered for payment\n",
      "\n",
      "\n",
      "==== Chunk 38, From Page 3 ====\n",
      ". Failure to obtain prior authorization may result in a penalty or increased out-of-pocket costs. Refer to the Care Coordination Process section of this SPD for a description of these services and prior authorization procedures. Note: Refer to the Provider Network section for clarifications and possible exceptions to the in-network or out-of-network classifications\n",
      "\n",
      "\n",
      "==== Chunk 39, From Page 3 ====\n",
      ". If a benefit maximum is listed in the middle of a column on the Schedule of Benefits, it is a combined Maximum Benefit for services that the Covered Person receives from all in-network and out-of-network providers and facilities. IN-NETWORK Annual deductible per calendar year per person is $5000 and per family deductible per calendar year is $10,000, and individual embedded deductible is $5000\n",
      "\n",
      "\n",
      "==== Chunk 40, From Page 3 ====\n",
      ". Type Of Administration The administration of the Plan is under the supervision of the Plan Administrator. The Plan is not financed by an insurance company and benefits are not guaranteed by a contract of insurance\n",
      "\n",
      "\n",
      "==== Chunk 41, From Page 3 ====\n",
      ". Name And Address Of Agent For Service Of ANYCOMPANY, INC Legal Process 123 ANY STREET ANY CITY CA, 92127 Funding Of The Plan Employer and Employee Contributions Benefits are provided by a benefit Plan maintained on a self-insured basis by Your employer. Benefit Plan Year Benefits begin on January 1 and end on the following December 31\n",
      "\n",
      "\n",
      "==== Chunk 42, From Page 3 ====\n",
      ". For new Employees and Dependents, a Benefit Plan Year begins on the individual's Effective Date and runs through December 31 of the same Benefit Plan Year. Plan Year January 1 through December 31 And Other Federal Compliance It is intended that this Plan comply with all applicable requirements of ABC and other federal regulations\n",
      "\n",
      "\n",
      "==== Chunk 43, From Page 3 ====\n",
      ". In the event of any conflict between this Plan and ABC or other federal regulations, the provisions of ABC and the federal regulations will be deemed controlling, and any conflicting part of this Plan will be deemed superseded to the extent of the conflict\n",
      "\n",
      "\n",
      "==== Chunk 44, From Page 3 ====\n",
      ". Benefit Plan(s) 001 All health benefits shown on this Schedule of Benefits are subject to the following: Deductibles, Co-pays, Plan Participation rates, and out-of-pocket maximums, if any. Refer to the Out-of-Pocket Expenses and Maximums section of this SPD for more details\n",
      "\n",
      "\n",
      "==== Chunk 45, From Page 3 ====\n",
      ". Benefits listed in this Schedule of Benefits are subject to all provisions of the Plan, including any benefit determination based on an evaluation of medical facts and covered benefits. Refer to the Covered Medical Benefits and General Exclusions sections of this SPD for more details. Important: Prior authorization may be required before benefits will be considered for payment\n",
      "\n",
      "\n",
      "==== Chunk 46, From Page 3 ====\n",
      ". Failure to obtain prior authorization may result in a penalty or increased out-of-pocket costs. Refer to the Care Coordination Process section of this SPD for a description of these services and prior authorization procedures. Note: Refer to the Provider Network section for clarifications and possible exceptions to the in-network or out-of-network classifications\n",
      "\n",
      "\n",
      "==== Chunk 47, From Page 3 ====\n",
      ". If a benefit maximum is listed in the middle of a column on the Schedule of Benefits, it is a combined Maximum Benefit for services that the Covered Person receives from all in-network and out-of-network providers and facilities. IN-NETWORK Annual deductible per calendar year per person is $5000 and per family deductible per calendar year is $10,000, and individual embedded deductible is $5000.\n",
      "\n",
      "\n",
      "==== Chunk 48, From Page 4 ====\n",
      "Note: Embedded Deductible Means That If You Have Family Coverage, Any Combination Of Covered Family Members May Help Meet The Maximum Family Deductible; However, No One Person Will Pay More Than His Or Her Embedded Individual Deductible Amount. Annual Total Out-Of-Pocket Maximum: Note: Medical And Pharmacy Expenses Are Subject To The Same Out-Of-Pocket Maximum\n",
      "\n",
      "\n",
      "==== Chunk 49, From Page 4 ====\n",
      ". Pharmacy out of pocket maximum per person is $6000 and for family out of pocket maximum is $12000 Note: Embedded Out-Of-Pocket Maximum Means That If You Have Family Coverage, Any Combination Of Covered Family Members May Help Meet The Family Out-Of-Pocket Maximum; However, No One Person Will Pay More Than His Or Her Embedded Individual Out-Of-Pocket Maximum Amount\n",
      "\n",
      "\n",
      "==== Chunk 50, From Page 4 ====\n",
      ". OUT-OF-POCKET EXPENSES AND MAXIMUMS Benefit Plan(s) 001, 002, 005 CO-PAYS A Co-pay is the amount that the Covered Person pays each time certain services are received. The Co- pay is typically a flat dollar amount and is paid at the time of service or when billed by the provider. Co- pays do not apply toward satisfaction of Deductibles\n",
      "\n",
      "\n",
      "==== Chunk 51, From Page 4 ====\n",
      ". Co-pays apply toward satisfaction of in-network and out-of-network out-of-pocket maximums. The Co-pay and out-of-pocket maximum are shown on the Schedule of Benefits. DEDUCTIBLES A Deductible is an amount of money paid once per Plan Year by the Covered Person before any Covered Expenses are paid by this Plan. A Deductible applies to each Covered Person up to a family Deductible limit\n",
      "\n",
      "\n",
      "==== Chunk 52, From Page 4 ====\n",
      ". When a new Plan Year begins, a new Deductible must be satisfied. Deductible amounts are shown on the Schedule of Benefits. Pharmacy expenses do not count toward meeting the Deductible of this Plan. The Deductible amounts that the Covered Person Incurs for Covered Expenses will be used to satisfy the Deductible(s) shown on the Schedule of Benefits\n",
      "\n",
      "\n",
      "==== Chunk 53, From Page 4 ====\n",
      ". The Deductible amounts that the Covered Person Incurs at an in-network provider will apply to the in- network total individual and family Deductible. The Deductible amounts that the Covered Person Incurs at an out-of-network provider will apply to the out-of-network total individual and family Deductible\n",
      "\n",
      "\n",
      "==== Chunk 54, From Page 4 ====\n",
      ". PLAN PARTICIPATION Plan Participation is the percentage of Covered Expenses that the Covered Person is responsible for paying after the Deductible is met. The Covered Person pays this percentage until the Covered Person's (or family's, if applicable) annual out-of-pocket maximum is reached. The Plan Participation rate is shown on the Schedule of Benefits\n",
      "\n",
      "\n",
      "==== Chunk 55, From Page 4 ====\n",
      ". Any payment for an expense that is not covered under this Plan will be the Covered Person's responsibility. ANNUAL OUT-OF-POCKET MAXIMUMS The annual out-of-pocket maximum is the most the Covered Person pays each year for Covered Expenses. There are separate in-network and out-of-network out-of-pocket maximums for this Plan. Annual out-of-pocket maximums are shown on the Schedule of Benefits\n",
      "\n",
      "\n",
      "==== Chunk 56, From Page 4 ====\n",
      ". Amounts the Covered Person Incurs for Covered Expenses will be used to satisfy the Covered Person's (or family's, if applicable) annual out-of-pocket maximum(s). If the Covered Person's out-of-pocket expenses in a Plan Year exceed the annual out-of-pocket maximum, the Plan pays 100% of the Covered Expenses through the end of the Plan Year\n",
      "\n",
      "\n",
      "==== Chunk 57, From Page 4 ====\n",
      ". The following will not be used to meet the out-of-pocket maximums: _Penalties, legal fees and interest charged by a provider. Any amounts over the Recognized Amount, Usual and Customary amount, Negotiated Rate or established fee schedule that this Plan pays\n",
      "\n",
      "\n",
      "==== Chunk 58, From Page 4 ====\n",
      ". Note: Embedded Deductible Means That If You Have Family Coverage, Any Combination Of Covered Family Members May Help Meet The Maximum Family Deductible; However, No One Person Will Pay More Than His Or Her Embedded Individual Deductible Amount. Annual Total Out-Of-Pocket Maximum: Note: Medical And Pharmacy Expenses Are Subject To The Same Out-Of-Pocket Maximum\n",
      "\n",
      "\n",
      "==== Chunk 59, From Page 4 ====\n",
      ". Pharmacy out of pocket maximum per person is $6000 and for family out of pocket maximum is $12000 Note: Embedded Out-Of-Pocket Maximum Means That If You Have Family Coverage, Any Combination Of Covered Family Members May Help Meet The Family Out-Of-Pocket Maximum; However, No One Person Will Pay More Than His Or Her Embedded Individual Out-Of-Pocket Maximum Amount\n",
      "\n",
      "\n",
      "==== Chunk 60, From Page 4 ====\n",
      ". OUT-OF-POCKET EXPENSES AND MAXIMUMS Benefit Plan(s) 001, 002, 005 CO-PAYS A Co-pay is the amount that the Covered Person pays each time certain services are received. The Co- pay is typically a flat dollar amount and is paid at the time of service or when billed by the provider. Co- pays do not apply toward satisfaction of Deductibles\n",
      "\n",
      "\n",
      "==== Chunk 61, From Page 4 ====\n",
      ". Co-pays apply toward satisfaction of in-network and out-of-network out-of-pocket maximums. The Co-pay and out-of-pocket maximum are shown on the Schedule of Benefits. DEDUCTIBLES A Deductible is an amount of money paid once per Plan Year by the Covered Person before any Covered Expenses are paid by this Plan. A Deductible applies to each Covered Person up to a family Deductible limit\n",
      "\n",
      "\n",
      "==== Chunk 62, From Page 4 ====\n",
      ". When a new Plan Year begins, a new Deductible must be satisfied. Deductible amounts are shown on the Schedule of Benefits. Pharmacy expenses do not count toward meeting the Deductible of this Plan. The Deductible amounts that the Covered Person Incurs for Covered Expenses will be used to satisfy the Deductible(s) shown on the Schedule of Benefits\n",
      "\n",
      "\n",
      "==== Chunk 63, From Page 4 ====\n",
      ". The Deductible amounts that the Covered Person Incurs at an in-network provider will apply to the in- network total individual and family Deductible. The Deductible amounts that the Covered Person Incurs at an out-of-network provider will apply to the out-of-network total individual and family Deductible\n",
      "\n",
      "\n",
      "==== Chunk 64, From Page 4 ====\n",
      ". PLAN PARTICIPATION Plan Participation is the percentage of Covered Expenses that the Covered Person is responsible for paying after the Deductible is met. The Covered Person pays this percentage until the Covered Person's (or family's, if applicable) annual out-of-pocket maximum is reached. The Plan Participation rate is shown on the Schedule of Benefits\n",
      "\n",
      "\n",
      "==== Chunk 65, From Page 4 ====\n",
      ". Any payment for an expense that is not covered under this Plan will be the Covered Person's responsibility. ANNUAL OUT-OF-POCKET MAXIMUMS The annual out-of-pocket maximum is the most the Covered Person pays each year for Covered Expenses. There are separate in-network and out-of-network out-of-pocket maximums for this Plan. Annual out-of-pocket maximums are shown on the Schedule of Benefits\n",
      "\n",
      "\n",
      "==== Chunk 66, From Page 4 ====\n",
      ". Amounts the Covered Person Incurs for Covered Expenses will be used to satisfy the Covered Person's (or family's, if applicable) annual out-of-pocket maximum(s). If the Covered Person's out-of-pocket expenses in a Plan Year exceed the annual out-of-pocket maximum, the Plan pays 100% of the Covered Expenses through the end of the Plan Year\n",
      "\n",
      "\n",
      "==== Chunk 67, From Page 4 ====\n",
      ". The following will not be used to meet the out-of-pocket maximums: _Penalties, legal fees and interest charged by a provider. Any amounts over the Recognized Amount, Usual and Customary amount, Negotiated Rate or established fee schedule that this Plan pays.\n",
      "\n",
      "\n",
      "==== Chunk 68, From Page 5 ====\n",
      "NO FORGIVENESS OF OUT-OF-POCKET EXPENSES The Covered Person is required to pay the out-of-pocket expenses (including Deductibles, Co-pays or required Plan Participation) under the terms of this Plan. The requirement that You and Your Dependent(s) pay the applicable out-of-pocket expenses cannot be waived by a provider under any \"fee forgiveness\", \"not out-of-pocket\" or similar arrangement\n",
      "\n",
      "\n",
      "==== Chunk 69, From Page 5 ====\n",
      ". If a provider waives the required out-of-pocket expenses, the Covered Person's claim may be denied and the Covered Person will be responsible for payment of the entire claim. The claim(s) may be reconsidered if the Covered Person provides satisfactory proof that he or she paid the out-of-pocket expenses under the terms of this Plan\n",
      "\n",
      "\n",
      "==== Chunk 70, From Page 5 ====\n",
      ". OUT-OF-POCKET EXPENSES AND MAXIMUMS Benefit Plan(s) 003, 004 DEDUCTIBLES A Deductible is an amount of money paid once per Plan Year by the Covered Person before any Covered Expenses are paid by this Plan. A Deductible applies to each Covered Person up to a family Deductible limit. When a new Plan Year begins, a new Deductible must be satisfied\n",
      "\n",
      "\n",
      "==== Chunk 71, From Page 5 ====\n",
      ". Deductible amounts are shown on the Schedule of Benefits. Generally, the applicable Deductible must be met before any benefits will be paid under this Plan. However, certain covered benefits may be considered Preventive / Routine Care and paid first dollar\n",
      "\n",
      "\n",
      "==== Chunk 72, From Page 5 ====\n",
      ". The Deductible amounts that the Covered Person Incurs for Covered Expenses, including covered Pharmacy expenses, will be used to satisfy the Deductible(s) shown on the Schedule of Benefits. The Deductible amounts that the Covered Person Incurs at an in-network provider will apply to the in- network total individual and family Deductible\n",
      "\n",
      "\n",
      "==== Chunk 73, From Page 5 ====\n",
      ". The Deductible amounts that the Covered Person Incurs at an out-of-network provider will apply to the out-of-network total individual and family Deductible. NO FORGIVENESS OF OUT-OF-POCKET EXPENSES The Covered Person is required to pay the out-of-pocket expenses (including Deductibles, Co-pays or required Plan Participation) under the terms of this Plan\n",
      "\n",
      "\n",
      "==== Chunk 74, From Page 5 ====\n",
      ". The requirement that You and Your Dependent(s) pay the applicable out-of-pocket expenses cannot be waived by a provider under any \"fee forgiveness\", \"not out-of-pocket\" or similar arrangement. If a provider waives the required out-of-pocket expenses, the Covered Person's claim may be denied and the Covered Person will be responsible for payment of the entire claim\n",
      "\n",
      "\n",
      "==== Chunk 75, From Page 5 ====\n",
      ". The claim(s) may be reconsidered if the Covered Person provides satisfactory proof that he or she paid the out-of-pocket expenses under the terms of this Plan. OUT-OF-POCKET EXPENSES AND MAXIMUMS Benefit Plan(s) 003, 004 DEDUCTIBLES A Deductible is an amount of money paid once per Plan Year by the Covered Person before any Covered Expenses are paid by this Plan\n",
      "\n",
      "\n",
      "==== Chunk 76, From Page 5 ====\n",
      ". A Deductible applies to each Covered Person up to a family Deductible limit. When a new Plan Year begins, a new Deductible must be satisfied. Deductible amounts are shown on the Schedule of Benefits. Generally, the applicable Deductible must be met before any benefits will be paid under this Plan. However, certain covered benefits may be considered Preventive / Routine Care and paid first dollar\n",
      "\n",
      "\n",
      "==== Chunk 77, From Page 5 ====\n",
      ". The Deductible amounts that the Covered Person Incurs for Covered Expenses, including covered Pharmacy expenses, will be used to satisfy the Deductible(s) shown on the Schedule of Benefits. The Deductible amounts that the Covered Person Incurs at an in-network provider will apply to the in- network total individual and family Deductible\n",
      "\n",
      "\n",
      "==== Chunk 78, From Page 5 ====\n",
      ". The Deductible amounts that the Covered Person Incurs at an out-of-network provider will apply to the out-of-network total individual and family Deductible.\n",
      "\n",
      "\n"
     ]
    }
   ],
   "source": [
    "from langchain.text_splitter import RecursiveCharacterTextSplitter\n",
    "\n",
    "text_splitter = RecursiveCharacterTextSplitter(chunk_size=400,\n",
    "                                               separators=[\"\\n\\n\", \"\\n\", \".\", \"!\", \"?\", \",\", \" \", \"\"],\n",
    "                                               chunk_overlap=0)\n",
    "texts = text_splitter.split_documents(document)\n",
    "\n",
    "for index, text in enumerate(texts):\n",
    "    print(f\"==== Chunk {index+1}, From Page {text.metadata['page']} ====\")\n",
    "    print(text.page_content)\n",
    "    print(\"\\n\")"
   ]
  },
  {
   "cell_type": "markdown",
   "id": "6fd295b2-5396-4058-81ab-c5516e8b6d3e",
   "metadata": {},
   "source": [
    "\n",
    "\n",
    "We have split the document into smaller chunks. We will now perform a couple of things-\n",
    "\n",
    "- Generate embeddings of these chunks\n",
    "- Store these embeddings into a vector database\n",
    "\n"
   ]
  },
  {
   "cell_type": "markdown",
   "id": "18ec36bb-91ab-43f4-9331-2c4f812ca8d6",
   "metadata": {},
   "source": [
    "## Vector database\n",
    "\n",
    "This vector database is going to store the embeddings that we generate. This notebook showcases FAISS and will be transient and in memory. FAISS (Facebook AI Similarity Search) is a library that allows developers to quickly search for embeddings of multimedia documents that are similar to each other. It solves limitations of traditional query search engines that are optimized for hash-based searches, and provides more scalable similarity search functions. The VectorStore APIs that use FAISS within LangChain are available [here](https://python.langchain.com/en/harrison-docs-refactor-3-24/reference/modules/vectorstore.html). \n",
    "\n",
    "We will use Amazon Titan embedding model to generate the embeddings."
   ]
  },
  {
   "cell_type": "code",
   "execution_count": 180,
   "id": "820484c7-d1c8-4fb8-9f68-9a57dd57da57",
   "metadata": {
    "scrolled": true,
    "tags": []
   },
   "outputs": [
    {
     "name": "stdout",
     "output_type": "stream",
     "text": [
      "amazon.titan-e1t-medium\n",
      "amazon.titan-embed-g1-text-02\n",
      "amazon.titan-embed-text-v1\n"
     ]
    }
   ],
   "source": [
    "resp = br.list_foundation_models(\n",
    "    byOutputModality='EMBEDDING'\n",
    ")\n",
    "for model in resp['modelSummaries']:\n",
    "    print(model['modelId'])"
   ]
  },
  {
   "cell_type": "code",
   "execution_count": 8,
   "id": "eaca8adf-14ee-4b3e-a07c-a3bff68b1c32",
   "metadata": {
    "tags": []
   },
   "outputs": [],
   "source": [
    "from langchain.embeddings import BedrockEmbeddings\n",
    "\n",
    "embeddings = BedrockEmbeddings(client=bedrock)"
   ]
  },
  {
   "cell_type": "code",
   "execution_count": 191,
   "id": "65c83ce7-bda6-4921-8a73-21d67b3a4a7f",
   "metadata": {
    "tags": []
   },
   "outputs": [],
   "source": [
    "from langchain.embeddings import BedrockEmbeddings\n",
    "from langchain.vectorstores import FAISS\n",
    "\n",
    "\n",
    "# Ensure that you have enabled amazon.titan-embed-text-v1 model in Amazon Bedrock console\n",
    "embeddings = BedrockEmbeddings(client=bedrock,model_id=\"amazon.titan-embed-text-v1\")\n",
    "vector_db = FAISS.from_documents(documents=texts, embedding=embeddings)"
   ]
  },
  {
   "cell_type": "code",
   "execution_count": 189,
   "id": "1f7ea83e-3eb0-44c3-93fa-13fcca9d82ba",
   "metadata": {},
   "outputs": [
    {
     "data": {
      "text/plain": [
       "True"
      ]
     },
     "execution_count": 189,
     "metadata": {},
     "output_type": "execute_result"
    }
   ],
   "source": [
    "# Since we are loading the FAISS Vector DB in memory, it will load into the SageMaker Studio instance's memory\n",
    "# you may want to free up memory from time to time. To do that, uncomment the line below and execute this cell\n",
    "\n",
    "# CAUTION! This will delete the vector index\n",
    "\n",
    "# vector_db.delete([vector_db.index_to_docstore_id[0]])"
   ]
  },
  {
   "cell_type": "markdown",
   "id": "9609e4cc-f5f2-4f44-b55c-da6ba0602698",
   "metadata": {},
   "source": [
    "We have loaded our vector db with the document, now let's run a query."
   ]
  },
  {
   "cell_type": "code",
   "execution_count": 16,
   "id": "408abd43-a7bb-438d-aaa5-ffbecb53ae5a",
   "metadata": {
    "tags": []
   },
   "outputs": [],
   "source": [
    "query = \"What is the annual deductible per person?\"\n",
    "docs = vector_db.similarity_search(query)"
   ]
  },
  {
   "cell_type": "code",
   "execution_count": 17,
   "id": "61612dd9-08d1-4cf6-b13c-9c607550f52d",
   "metadata": {
    "tags": []
   },
   "outputs": [
    {
     "data": {
      "text/plain": [
       "[Document(page_content='Note: Embedded Deductible Means That If You Have Family Coverage, Any Combination Of Covered Family Members May Help Meet The Maximum Family Deductible; However, No One Person Will Pay More Than His Or Her Embedded Individual Deductible Amount. Annual Total Out-Of-Pocket Maximum: Note: Medical And Pharmacy Expenses Are Subject To The Same Out-Of-Pocket Maximum', metadata={'source': 's3://sagemaker-us-east-1-710096454740/idp/genai/health_plan.pdf', 'page': 4}),\n",
       " Document(page_content='. A Deductible applies to each Covered Person up to a family Deductible limit. When a new Plan Year begins, a new Deductible must be satisfied. Deductible amounts are shown on the Schedule of Benefits. Generally, the applicable Deductible must be met before any benefits will be paid under this Plan. However, certain covered benefits may be considered Preventive / Routine Care and paid first dollar', metadata={'source': 's3://sagemaker-us-east-1-710096454740/idp/genai/health_plan.pdf', 'page': 5}),\n",
       " Document(page_content='. Note: Embedded Deductible Means That If You Have Family Coverage, Any Combination Of Covered Family Members May Help Meet The Maximum Family Deductible; However, No One Person Will Pay More Than His Or Her Embedded Individual Deductible Amount. Annual Total Out-Of-Pocket Maximum: Note: Medical And Pharmacy Expenses Are Subject To The Same Out-Of-Pocket Maximum', metadata={'source': 's3://sagemaker-us-east-1-710096454740/idp/genai/health_plan.pdf', 'page': 4}),\n",
       " Document(page_content='. OUT-OF-POCKET EXPENSES AND MAXIMUMS Benefit Plan(s) 003, 004 DEDUCTIBLES A Deductible is an amount of money paid once per Plan Year by the Covered Person before any Covered Expenses are paid by this Plan. A Deductible applies to each Covered Person up to a family Deductible limit. When a new Plan Year begins, a new Deductible must be satisfied', metadata={'source': 's3://sagemaker-us-east-1-710096454740/idp/genai/health_plan.pdf', 'page': 5})]"
      ]
     },
     "execution_count": 17,
     "metadata": {},
     "output_type": "execute_result"
    }
   ],
   "source": [
    "docs"
   ]
  },
  {
   "cell_type": "markdown",
   "id": "ff123f07-ff05-4ee8-a688-c819798b17ec",
   "metadata": {},
   "source": [
    "The query returns all the chunks from the document that is similar to the query, by default it returns the Top 4 similar chunks. Let's see how to return just Top 3 with confidence scores."
   ]
  },
  {
   "cell_type": "code",
   "execution_count": 18,
   "id": "532c20e7-d676-42f0-9f5b-4a3c88658b06",
   "metadata": {
    "tags": []
   },
   "outputs": [
    {
     "data": {
      "text/plain": [
       "[(Document(page_content='Note: Embedded Deductible Means That If You Have Family Coverage, Any Combination Of Covered Family Members May Help Meet The Maximum Family Deductible; However, No One Person Will Pay More Than His Or Her Embedded Individual Deductible Amount. Annual Total Out-Of-Pocket Maximum: Note: Medical And Pharmacy Expenses Are Subject To The Same Out-Of-Pocket Maximum', metadata={'source': 's3://sagemaker-us-east-1-710096454740/idp/genai/health_plan.pdf', 'page': 4}),\n",
       "  208.32166),\n",
       " (Document(page_content='. A Deductible applies to each Covered Person up to a family Deductible limit. When a new Plan Year begins, a new Deductible must be satisfied. Deductible amounts are shown on the Schedule of Benefits. Generally, the applicable Deductible must be met before any benefits will be paid under this Plan. However, certain covered benefits may be considered Preventive / Routine Care and paid first dollar', metadata={'source': 's3://sagemaker-us-east-1-710096454740/idp/genai/health_plan.pdf', 'page': 5}),\n",
       "  214.49274),\n",
       " (Document(page_content='. Note: Embedded Deductible Means That If You Have Family Coverage, Any Combination Of Covered Family Members May Help Meet The Maximum Family Deductible; However, No One Person Will Pay More Than His Or Her Embedded Individual Deductible Amount. Annual Total Out-Of-Pocket Maximum: Note: Medical And Pharmacy Expenses Are Subject To The Same Out-Of-Pocket Maximum', metadata={'source': 's3://sagemaker-us-east-1-710096454740/idp/genai/health_plan.pdf', 'page': 4}),\n",
       "  216.91643)]"
      ]
     },
     "execution_count": 18,
     "metadata": {},
     "output_type": "execute_result"
    }
   ],
   "source": [
    "docs = vector_db.similarity_search_with_score(query, k = 3)\n",
    "docs"
   ]
  },
  {
   "cell_type": "markdown",
   "id": "88a6f088-6591-4671-8602-cfd7446a7059",
   "metadata": {},
   "source": [
    "## Vector store-backed retriever\n",
    "---\n",
    "\n",
    "According to LangChain documentation-\n",
    "\n",
    ">A vector store retriever is a retriever that uses a vector store to retrieve documents. It is a lightweight wrapper around the vector store class to make it conform to the retriever interface. It uses the search methods implemented by a vector store, like similarity search and MMR, to query the texts in the vector store.\n",
    "\n",
    "Wrapping our vector db in a retriever wrapper is going to be useful when we use it in the Q&A chain for our chatbot in subsequent sections. But let's take a look how it works. The functionality is pretty similar to before (i.e. querying) with a slightly different interface.\n",
    "\n",
    "We first define a retriever with search type mmr (Max Marginal Relevance), other option is similarity. Note that the search_type depends on which vector DB you are using, some vector DBs may or may not support mmr etc.\n",
    "\n",
    ">MMR considers the similarity of keywords/keyphrases with the document, along with the similarity of already selected keywords and keyphrases. This results in a selection of keywords that maximize their within diversity with respect to the document.\n",
    "\n",
    "We also define how many top results to return, in this case 2. Finally we query the retriever using get_relevant_documents by passing in the query.\n"
   ]
  },
  {
   "cell_type": "code",
   "execution_count": 181,
   "id": "b75255fb-dd71-4c8c-94df-6865ca9654a0",
   "metadata": {
    "tags": []
   },
   "outputs": [
    {
     "data": {
      "text/plain": [
       "[Document(page_content='. Pharmacy out of pocket maximum per person is $6000 and for family out of pocket maximum is $12000 Note: Embedded Out-Of-Pocket Maximum Means That If You Have Family Coverage, Any Combination Of Covered Family Members May Help Meet The Family Out-Of-Pocket Maximum; However, No One Person Will Pay More Than His Or Her Embedded Individual Out-Of-Pocket Maximum Amount. OUT-OF-POCKET EXPENSES AND MAXIMUMS Benefit Plan(s) 001, 002, 005 CO-PAYS A Co-pay is the amount that the Covered Person pays each time certain services are received. The Co- pay is typically a flat dollar amount and is paid at the time of service or when billed by the provider', metadata={'source': 's3://sagemaker-us-east-1-710096454740/idp/genai/health_plan.pdf', 'page': 4}),\n",
       " Document(page_content='. However, certain covered benefits may be considered Preventive / Routine Care and paid first dollar. The Deductible amounts that the Covered Person Incurs for Covered Expenses, including covered Pharmacy expenses, will be used to satisfy the Deductible(s) shown on the Schedule of Benefits. The Deductible amounts that the Covered Person Incurs at an in-network provider will apply to the in- network total individual and family Deductible. The Deductible amounts that the Covered Person Incurs at an out-of-network provider will apply to the out-of-network total individual and family Deductible.', metadata={'source': 's3://sagemaker-us-east-1-710096454740/idp/genai/health_plan.pdf', 'page': 5}),\n",
       " Document(page_content='., and Your employer is pleased to sponsor this Plan to provide benefits that can help meet Your health care needs. Please read this document carefully and contact Your Human Resources or Personnel office if You have questions or if You have difficulty translating this document. ANYCOMPANY, INC. is named the Plan Administrator for this Plan. The Plan Administrator has retained the services of independent Third Party Administrators to process claims and handle other duties for this self-funded Plan. The Third Party Administrators for this Plan are UMR, Inc. (hereinafter \"UMR\") for medical claims, and Express Scripts for pharmacy claims', metadata={'source': 's3://sagemaker-us-east-1-710096454740/idp/genai/health_plan.pdf', 'page': 2})]"
      ]
     },
     "execution_count": 181,
     "metadata": {},
     "output_type": "execute_result"
    }
   ],
   "source": [
    "query = \"What is the total pharmacy out-of-pocket?\"\n",
    "\n",
    "retriever = vector_db.as_retriever(search_type='mmr', search_kwargs={\"k\": 3})\n",
    "relevant_docs = retriever.get_relevant_documents(query)   \n",
    "relevant_docs"
   ]
  },
  {
   "cell_type": "markdown",
   "id": "15b06ac4-d37d-4f02-9d2f-2f52b9ed5432",
   "metadata": {},
   "source": [
    "## Build context from retrieved documents\n",
    "---\n",
    "\n",
    "We now have the two relevant pieces of text that \"contain\" the anwer to our question, we are not quite there yet. So we will use a technique that we used earlier to build context and ask the quetion to the Llama-2 model. In this case, we will use the two text chunks we retrieved from the vector db to create the context by simply concatenating them."
   ]
  },
  {
   "cell_type": "code",
   "execution_count": 172,
   "id": "90e44f51-d5de-46eb-9121-9d55305e1a6a",
   "metadata": {
    "tags": []
   },
   "outputs": [
    {
     "name": "stdout",
     "output_type": "stream",
     "text": [
      ", and Your employer is pleased to sponsor this Plan to provide benefits that can help meet Your health care needs. Please read this document carefully and contact Your Human Resources or Personnel office if You have questions or if You have difficulty translating this document. ANYCOMPANY, INC. is named the Plan Administrator for this Plan. The Plan Administrator has retained the services of independent Third Party Administrators to process claims and handle other duties for this self-funded Plan. The Third Party Administrators for this Plan are UMR, Inc. (hereinafter \"UMR\") for medical claims, and Express Scripts for pharmacy claims . Amounts the Covered Person Incurs for Covered Expenses will be used to satisfy the Covered Person's (or family's, if applicable) annual out-of-pocket maximum(s). If the Covered Person's out-of-pocket expenses in a Plan Year exceed the annual out-of-pocket maximum, the Plan pays 100% of the Covered Expenses through the end of the Plan Year. The following will not be used to meet the out-of-pocket maximums: _Penalties, legal fees and interest charged by a provider. Any amounts over the Recognized Amount, Usual and Customary amount, Negotiated Rate or established fee schedule that this Plan pays. . The Third Party Administrators do not assume liability for benefits payable under this Plan, since they are solely claims-paying agents for the Plan Administrator. The employer assumes the sole responsibility for funding the Plan benefits out of general assets; however, Employees help cover some of the costs of covered benefits through contributions, Deductibles, out-of-pocket amounts, and Plan Participation amounts as described in the Schedule of Benefits. All claim payments and reimbursements are paid out of the general assets of the employer and there is no separate fund that is used to pay promised benefits\n"
     ]
    }
   ],
   "source": [
    "full_context = str()\n",
    "for doc in relevant_docs:\n",
    "    full_context += doc.page_content+\" \"\n",
    "    \n",
    "print(full_context.strip(\".\").strip())"
   ]
  },
  {
   "cell_type": "markdown",
   "id": "5fc69ef5-6995-4dff-b1ec-27e4ad44321a",
   "metadata": {},
   "source": [
    "The similarity seach query gave us a good output but we want some more key details out of it. Let's use an LLM to ask this question, but this time using the context that we created above"
   ]
  },
  {
   "cell_type": "code",
   "execution_count": 32,
   "id": "5465a219-af2c-4982-a22d-e864e6c262c8",
   "metadata": {
    "tags": []
   },
   "outputs": [
    {
     "name": "stdout",
     "output_type": "stream",
     "text": [
      "$6,000\n"
     ]
    }
   ],
   "source": [
    "from langchain.document_loaders import AmazonTextractPDFLoader\n",
    "from langchain.llms import Bedrock\n",
    "from langchain.prompts import PromptTemplate\n",
    "from langchain.chains import LLMChain\n",
    "\n",
    "loader = AmazonTextractPDFLoader(\"./samples/discharge-summary.png\")\n",
    "document = loader.load()\n",
    "\n",
    "template = \"\"\"\n",
    "\n",
    "Answer the question as truthfully as possible strictly using only the provided text, and if the answer is not contained within the text, say \"I don't know\". Skip any preamble text and reasoning and give just the answer.\n",
    "\n",
    "<text>{document}</text>\n",
    "<question>{question}</question>\n",
    "<answer>\"\"\"\n",
    "\n",
    "prompt = PromptTemplate(template=template, input_variables=[\"document\",\"question\"])\n",
    "bedrock_llm = Bedrock(client=bedrock, model_id=\"anthropic.claude-v1\")\n",
    "\n",
    "\n",
    "llm_chain = LLMChain(prompt=prompt, llm=bedrock_llm)\n",
    "answer = llm_chain.run(document=full_context, question=\"What is the per-person pharmacy out-of-pocket?\")\n",
    "print(answer.strip())"
   ]
  },
  {
   "cell_type": "markdown",
   "id": "3dced583-30e0-4b17-8423-b78fbfd5526a",
   "metadata": {
    "tags": []
   },
   "source": [
    "Now let's run it with a different question"
   ]
  },
  {
   "cell_type": "code",
   "execution_count": 33,
   "id": "22b80866-508b-4cda-8f9e-c295d251358b",
   "metadata": {
    "tags": []
   },
   "outputs": [
    {
     "name": "stdout",
     "output_type": "stream",
     "text": [
      "I don't know.\n"
     ]
    }
   ],
   "source": [
    "answer = llm_chain.run(document=full_context, question=\"Who is the administrator for this plan?\")\n",
    "print(answer.strip())"
   ]
  },
  {
   "cell_type": "markdown",
   "id": "9abc17dc-69a5-4fc5-8414-e01149c70f9e",
   "metadata": {},
   "source": [
    "The model doesn't know the answer because our context in `full_context` has no information about the administrator of the plan, and we asked the model to strictly answer from within the provided context. This means we will have to run a similarity search on the Vector database again using our new question, create the full context again, and then ask the question. Thankfully, LangChain makes it easy for us and we will see how."
   ]
  },
  {
   "cell_type": "markdown",
   "id": "449c706a-e00f-4d8e-99ee-b7e87fa385ff",
   "metadata": {},
   "source": [
    "### Performing Q&A with RAG with `load_qa_chain`\n",
    "---\n",
    "\n",
    "For this purpose, we will first define a question, and then generate embeddings from it. Once we have that we can perform similarity search on the vector database to find relevant pieces of information from the document. These relevant pieces of information will then be passed on to the model so that it can answer the question. We will use LangChain's `load_qa_chain` to perform Q&A with the model. The load qa chain does the work with prompt creation and all the context generation with help from the vector database.\n",
    "\n",
    "NOTE: In order to use the `RetrievalQA` from LangChain, your prompt template must have the two variables `context` and `question`. Using any other variable names will cause an error."
   ]
  },
  {
   "cell_type": "code",
   "execution_count": 202,
   "id": "863ec529-b5c3-40c5-9ae1-a4a00e147827",
   "metadata": {
    "tags": []
   },
   "outputs": [
    {
     "name": "stdout",
     "output_type": "stream",
     "text": [
      " ANYCOMPANY, INC.\n"
     ]
    }
   ],
   "source": [
    "from langchain.chains import RetrievalQA\n",
    "from langchain.llms import Bedrock\n",
    "from langchain.prompts import PromptTemplate\n",
    "\n",
    "retriever = vector_db.as_retriever(search_type='mmr', search_kwargs={\"k\": 3})\n",
    "\n",
    "template = \"\"\"\n",
    "\n",
    "Answer the question as truthfully as possible strictly using only the provided text, and if the answer is not contained within the text, say \"I don't know\". Skip any preamble text and reasoning and give just the answer.\n",
    "\n",
    "<text>{context}</text>\n",
    "<question>{question}</question>\n",
    "<answer>\"\"\"\n",
    "\n",
    "# define the prompt template\n",
    "qa_prompt = PromptTemplate(template=template, input_variables=[\"context\",\"question\"])\n",
    "\n",
    "chain_type_kwargs = { \"prompt\": qa_prompt, \"verbose\": False } # change verbose to True if you need to see what's happening\n",
    "\n",
    "bedrock_llm = Bedrock(client=bedrock, model_id=\"anthropic.claude-v1\")\n",
    "qa = RetrievalQA.from_chain_type(\n",
    "    llm=bedrock_llm, \n",
    "    chain_type=\"stuff\", \n",
    "    retriever=retriever,\n",
    "    chain_type_kwargs=chain_type_kwargs,\n",
    "    verbose=False # change verbose to True if you need to see what's happening\n",
    ")\n",
    "\n",
    "question=\"Who is the administrator for this plan?\"\n",
    "\n",
    "result = qa.run(question)\n",
    "print(result.strip())"
   ]
  },
  {
   "cell_type": "markdown",
   "id": "4c9f1f81-bf70-434a-beae-2375813d76ab",
   "metadata": {},
   "source": [
    "Perfect! our model now can precisely answer the question. But how did it work?\n",
    "\n",
    "- First, the question text was taken and the embedding was generated using the Amazon Titan embedding model. This all happened inside the `retriever` as we defined earler with `retriever = vector_db.as_retriever(search_type='mmr', search_kwargs={\"k\": 3})` our `vector_db` is a FAISS object that was initialized with Amazon Titan embedding model.\n",
    "- Next the `RetrievalQA` chain runs a similarity search with the generated embdeddings (from the question) to find out relevant pieces of text that are similar to the question we are try to get an answer for.\n",
    "- Then the chain builds the full context using the returned chunks and generates the full prompt using the `qa_prompt` template we provided.\n",
    "- Finally, the chain invokes the model to get the response"
   ]
  },
  {
   "cell_type": "markdown",
   "id": "885f63ef-fcc6-48fa-976a-53a0be189ad5",
   "metadata": {},
   "source": [
    "## Chat with your document\n",
    "---\n",
    "\n",
    "We will now create a simple chat application to chat with our document. This application will not only perform in-context Q&A, but will also be able to answer questions based on chat history. For the chatbot we need `context management, history, vector stores, and many other things`. We will start by with a ConversationalRetrievalChain\n",
    "\n",
    "This uses conversation memory and RetrievalQAChain which Allow for passing in chat history which can be used for follow up questions.Source: https://python.langchain.com/en/latest/modules/chains/index_examples/chat_vector_db.html\n",
    "\n",
    "_We will use Gradio to quickly spin up our chat interface. So we will install Gradio next. Then we will define our Conversation chain and plug that into the chat application._"
   ]
  },
  {
   "cell_type": "code",
   "execution_count": null,
   "id": "5e65ea53-71ee-4f11-a4f4-55f459a58f88",
   "metadata": {
    "scrolled": true,
    "tags": []
   },
   "outputs": [],
   "source": [
    "!pip install -U gradio"
   ]
  },
  {
   "cell_type": "code",
   "execution_count": 174,
   "id": "1dea4492-4f52-4ed0-b671-48d933ac5856",
   "metadata": {
    "tags": []
   },
   "outputs": [
    {
     "data": {
      "text/plain": [
       "True"
      ]
     },
     "execution_count": 174,
     "metadata": {},
     "output_type": "execute_result"
    }
   ],
   "source": [
    "# let's delete the index, we will create it again\n",
    "vector_db.delete([vector_db.index_to_docstore_id[0]])"
   ]
  },
  {
   "cell_type": "markdown",
   "id": "40817bbd-9e39-4100-97d1-4086541f50c0",
   "metadata": {},
   "source": [
    "We will now read a document using `AmazonTextractPDFLoader` split the pages into smaller chunks, generate embeddings using Amazon Titan Embedding model, and load it into our Vector DB. We will also initialize our Claude model with `temperature=0.1` for less diversified responses, and some stop words so that the model knows when to stop generating tokens."
   ]
  },
  {
   "cell_type": "code",
   "execution_count": 175,
   "id": "f1b3955d-1636-4d90-af1b-d5d390d196a5",
   "metadata": {
    "tags": []
   },
   "outputs": [],
   "source": [
    "from langchain.embeddings import BedrockEmbeddings\n",
    "from langchain.vectorstores import FAISS\n",
    "from langchain.llms import Bedrock\n",
    "from langchain.text_splitter import RecursiveCharacterTextSplitter\n",
    "from langchain.document_loaders import AmazonTextractPDFLoader\n",
    "\n",
    "loader = AmazonTextractPDFLoader(f\"s3://{data_bucket}/idp/genai/health_plan.pdf\")\n",
    "document = loader.load()\n",
    "text_splitter = RecursiveCharacterTextSplitter(chunk_size=700,\n",
    "                                               separators=[\"\\n\\n\", \"\\n\", \".\", \"!\", \"?\", \",\", \" \", \"\"],\n",
    "                                               chunk_overlap=0)\n",
    "texts = text_splitter.split_documents(document)\n",
    "\n",
    "# Ensure that you have enabled amazon.titan-embed-text-v1 model in Amazon Bedrock console\n",
    "embeddings = BedrockEmbeddings(client=bedrock,model_id=\"amazon.titan-embed-text-v1\")\n",
    "vector_db = FAISS.from_documents(documents=texts,embedding=embeddings)\n",
    "\n",
    "bedrock_llm = Bedrock(client=bedrock, \n",
    "                      model_id=\"anthropic.claude-v1\", \n",
    "                      model_kwargs={\"temperature\": 0.1,\"stop_sequences\": [\"\\n\\nHuman:\",\"</answer>\"]})"
   ]
  },
  {
   "cell_type": "markdown",
   "id": "d4ad5a39-c2f5-4448-880b-69269d6f0c3a",
   "metadata": {},
   "source": [
    "To build our chat application, we will use a built-in LangChain chain called `ConversationalRetrievalChain`. This chain allows us to build conversational interface that is capable of retaining chat history, and perform RAG on our vector DB retriever simultaneously, without us having to code each of those steps individually. The purpose of the chat history, is when provided as a context to the model, the model will recall the conversation and may enrich the responses (with the help of additional context retrieved by the `retriever`) based on the current question."
   ]
  },
  {
   "cell_type": "code",
   "execution_count": 176,
   "id": "c1a5b1ae-e472-4a29-a796-60becd9b79e7",
   "metadata": {
    "tags": []
   },
   "outputs": [
    {
     "name": "stdout",
     "output_type": "stream",
     "text": [
      "-> **Question**: Hi AI, I am Bob Doe. How are you? \n",
      "\n",
      "**Answer**: Hello Bob Doe. I'm doing well, thanks for asking. \n",
      "\n",
      "-> **Question**: Who is the plan administrator for this plan? \n",
      "\n",
      "**Answer**: ANYCOMPANY, INC. \n",
      "\n",
      "-> **Question**: What is the annual deductible per person? \n",
      "\n",
      "**Answer**: $5000 \n",
      "\n",
      "-> **Question**: Do you remember my name? \n",
      "\n",
      "**Answer**: I don't know. \n",
      "\n"
     ]
    }
   ],
   "source": [
    "from langchain.prompts import PromptTemplate\n",
    "from langchain.chains import ConversationalRetrievalChain\n",
    "# from langchain.memory import ConversationBufferMemory\n",
    "# from langchain.memory import ConversationBufferWindowMemory\n",
    "\n",
    "def create_prompt_template():\n",
    "    _template = \"\"\"\n",
    "    \n",
    "Given the following chat history and a follow up question, rephrase the follow up question to be a standalone question, in its original language. Skip the preamble and just get to the question.\n",
    "\n",
    "<chat_history>    \n",
    "{chat_history}\n",
    "</chat_history>    \n",
    "<follow_up_question>\n",
    "{question}\n",
    "</follow_up_question>\n",
    "\"\"\"\n",
    "    conversation_prompt = PromptTemplate.from_template(_template)\n",
    "    return conversation_prompt\n",
    "\n",
    "template = \"\"\"\n",
    "\n",
    "Answer the question as truthfully as possible strictly using only the provided text, and if the answer is not contained within the text, say \"I don't know\". Skip any preamble text and reasoning and give just the answer. If the user greets you, just greet them back.\n",
    "\n",
    "<text>\n",
    "{context}\n",
    "{chat_history}\n",
    "</text>\n",
    "\n",
    "<question>\n",
    "{question}\n",
    "</question>\n",
    "\n",
    "<answer>\n",
    "\"\"\"\n",
    "\n",
    "# define the prompt template\n",
    "qa_prompt = PromptTemplate(template=template, input_variables=[\"context\",\"question\",\"chat_history\"])\n",
    "\n",
    "retriever = vector_db.as_retriever(search_type='mmr', search_kwargs={\"k\": 3})\n",
    "\n",
    "# all_memory = ConversationBufferMemory(memory_key=\"chat_history\", return_messages=True, output_key='answer')\n",
    "# windowed_memory = ConversationBufferWindowMemory(memory_key=\"chat_history\", k=4, return_messages=True)\n",
    "\n",
    "qa = ConversationalRetrievalChain.from_llm(llm=bedrock_llm, \n",
    "                                           retriever=retriever, \n",
    "                                           condense_question_prompt=create_prompt_template(),\n",
    "                                           condense_question_llm = Bedrock(client=bedrock, model_id=\"anthropic.claude-v1\"),\n",
    "                                           combine_docs_chain_kwargs={\"prompt\": qa_prompt},\n",
    "                                           # verbose=True    # uncomment this to see logs\n",
    "                                          )\n",
    "\n",
    "questions = [\n",
    "    \"Hi AI, I am Bob Doe. How are you?\",\n",
    "    \"Who is the plan administrator for this plan?\",\n",
    "    \"What is the annual deductible per person?\",\n",
    "    \"Do you remember my name?\"\n",
    "]\n",
    "chat_history = []\n",
    "\n",
    "for question in questions:\n",
    "    result = qa({\"question\": question, \"chat_history\":chat_history})\n",
    "    chat_history.append((question, result[\"answer\"]))\n",
    "    print(f\"-> **Question**: {question} \\n\")\n",
    "    print(f\"**Answer**: {result['answer'].strip()} \\n\")"
   ]
  },
  {
   "cell_type": "markdown",
   "id": "58fd5768-1705-4d16-ad86-e1ea342db36f",
   "metadata": {},
   "source": [
    "We just had an automated chat session with a bunch of pre-determined questions and we also noticed that from the fourth question, the model is able to answer the name since we have access to the chat history. Keep in mind, as the chat session goes longer, the chat memory can get bigger and bigger (i.e. commented line `all_memory` uses ALL chat history). In such cases, it is important to limit how far you want to remember the chat so that you don't run out of token limits, and encounter slower responses."
   ]
  },
  {
   "cell_type": "code",
   "execution_count": 128,
   "id": "99df716d-5ad2-45d0-96e8-9ab29eef790b",
   "metadata": {
    "tags": []
   },
   "outputs": [
    {
     "data": {
      "text/plain": [
       "[('Hi AI, I am Bob Doe. Please remember my name.', ' Hello Bob Doe.'),\n",
       " ('Who is the plan administrator for this plan?', ' ANYCOMPANY, INC.\\n'),\n",
       " ('What is the annual deductible per person?', ' $5000\\n\\n'),\n",
       " ('Do you remember my name?', ' Yes, your name is Bob Doe.\\n\\n')]"
      ]
     },
     "execution_count": 128,
     "metadata": {},
     "output_type": "execute_result"
    }
   ],
   "source": [
    "chat_history"
   ]
  },
  {
   "cell_type": "markdown",
   "id": "1a804e26-2859-4381-9042-1b4eeb054a8a",
   "metadata": {},
   "source": [
    "## The Chat App with Gradio\n",
    "---\n",
    "\n",
    "Next we will build a simple chat app using Gradio and the same method we used above using `ConversationalRetrievalChain` and our vector database as a retriever. Note that our vector database is currently loaded with only one document. But you can imagine that you could have any number of documents loaded into the vector database.\n",
    "\n",
    "Once you run the following code cell, here are some questions you can ask in the chat interface-\n",
    "\n",
    "- Hi I am John Doe.\n",
    "- Who is the plan Administrator?\n",
    "- Who are the third party administrator?\n",
    "- What is the per-person deductible?\n",
    "- What is ERISA?\n",
    "- Do you remember my name?       ---> Test if the bot remembers your name\n",
    "- Based on your previous answers, who are the primary and the third party administrators of the plan? ---> Test chat history\n",
    "- What is Co-pay?\n",
    "- What is a deductible?\n",
    "- What is the co-pay maximum for a family?  ---> Info not in the document\n",
    "- What is the co-pay maximum for a person?  ---> Info not in the document\n",
    "- What is the deductible maximum for a family?\n",
    "- what is the maximum out of pocket for pharmacy for a person?\n",
    "- what is the maximum out of pocket for pharmacy for a family?\n"
   ]
  },
  {
   "cell_type": "code",
   "execution_count": 179,
   "id": "b82b1979-df5c-4f50-9d07-8e3c38d3bc39",
   "metadata": {
    "tags": []
   },
   "outputs": [
    {
     "name": "stdout",
     "output_type": "stream",
     "text": [
      "Running on local URL:  http://127.0.0.1:7868\n",
      "Sagemaker notebooks may require sharing enabled. Setting `share=True` (you can turn this off by setting `share=False` in `launch()` explicitly).\n",
      "\n",
      "Running on public URL: https://22e68bf81f537e344d.gradio.live\n",
      "\n",
      "This share link expires in 72 hours. For free permanent hosting and GPU upgrades, run `gradio deploy` from Terminal to deploy to Spaces (https://huggingface.co/spaces)\n"
     ]
    },
    {
     "data": {
      "text/html": [
       "<div><iframe src=\"https://22e68bf81f537e344d.gradio.live\" width=\"100%\" height=\"500\" allow=\"autoplay; camera; microphone; clipboard-read; clipboard-write;\" frameborder=\"0\" allowfullscreen></iframe></div>"
      ],
      "text/plain": [
       "<IPython.core.display.HTML object>"
      ]
     },
     "metadata": {},
     "output_type": "display_data"
    },
    {
     "data": {
      "text/plain": []
     },
     "execution_count": 179,
     "metadata": {},
     "output_type": "execute_result"
    }
   ],
   "source": [
    "import random\n",
    "import gradio as gr\n",
    "from langchain.prompts import PromptTemplate\n",
    "from langchain.chains import ConversationalRetrievalChain\n",
    "\n",
    "def create_prompt_template():\n",
    "    _template = \"\"\"\n",
    "    \n",
    "Given the following chat history and a follow up question, simply respond back with the question without any modifications. Skip any preamble text and reasoning and just generate the question.\n",
    "\n",
    "<chat_history>\n",
    "{chat_history}\n",
    "</chat_history>\n",
    "<follow_up_question>\n",
    "{question}\n",
    "</follow_up_question>\n",
    "\"\"\"\n",
    "    conversation_prompt = PromptTemplate.from_template(_template)\n",
    "    return conversation_prompt\n",
    "\n",
    "template = \"\"\"\n",
    "\n",
    "Answer the question as truthfully as possible strictly using only the provided text, and if the answer is not contained within the text, say \"I don't know\". Always respond in the language the question was asked. Skip any preamble text and reasoning and give just the answer. If the user greets you, just greet them back.\n",
    "\n",
    "<text>\n",
    "{context}\n",
    "{chat_history}\n",
    "</text>\n",
    "\n",
    "<question>\n",
    "{question}\n",
    "</question>\n",
    "\n",
    "<answer>\n",
    "\"\"\"\n",
    "\n",
    "# define the prompt template\n",
    "qa_prompt = PromptTemplate(template=template, input_variables=[\"context\",\"question\",\"chat_history\"])\n",
    "\n",
    "retriever = vector_db.as_retriever(search_type='mmr', search_kwargs={\"k\": 3})\n",
    "\n",
    "qa = ConversationalRetrievalChain.from_llm(llm=bedrock_llm, \n",
    "                                           retriever=retriever, \n",
    "                                           condense_question_prompt=create_prompt_template(),\n",
    "                                           condense_question_llm = Bedrock(client=bedrock, model_id=\"anthropic.claude-v1\"),\n",
    "                                           combine_docs_chain_kwargs={\"prompt\": qa_prompt}\n",
    "                                          )\n",
    "chat_history = []\n",
    "\n",
    "def qa_fn(message, history):\n",
    "    result = qa({\"question\": message, \"chat_history\":chat_history})\n",
    "    chat_history.append((message, result[\"answer\"]))\n",
    "    return result['answer'].strip()\n",
    "\n",
    "gr.ChatInterface(qa_fn).launch()"
   ]
  },
  {
   "cell_type": "markdown",
   "id": "2239af7b-2181-4492-9572-4d2541f6a54b",
   "metadata": {},
   "source": [
    "## Cleanup\n",
    "---\n",
    "\n",
    "Let's clean up the file we uploaded to S3 earlier"
   ]
  },
  {
   "cell_type": "code",
   "execution_count": null,
   "id": "feb84d02-0b63-4cb4-bfbe-ca54046db668",
   "metadata": {},
   "outputs": [],
   "source": [
    "!aws s3api delete-object --bucket {data_bucket} --key bedrock-sample/health_plan.pdf"
   ]
  }
 ],
 "metadata": {
  "availableInstances": [
   {
    "_defaultOrder": 0,
    "_isFastLaunch": true,
    "category": "General purpose",
    "gpuNum": 0,
    "hideHardwareSpecs": false,
    "memoryGiB": 4,
    "name": "ml.t3.medium",
    "vcpuNum": 2
   },
   {
    "_defaultOrder": 1,
    "_isFastLaunch": false,
    "category": "General purpose",
    "gpuNum": 0,
    "hideHardwareSpecs": false,
    "memoryGiB": 8,
    "name": "ml.t3.large",
    "vcpuNum": 2
   },
   {
    "_defaultOrder": 2,
    "_isFastLaunch": false,
    "category": "General purpose",
    "gpuNum": 0,
    "hideHardwareSpecs": false,
    "memoryGiB": 16,
    "name": "ml.t3.xlarge",
    "vcpuNum": 4
   },
   {
    "_defaultOrder": 3,
    "_isFastLaunch": false,
    "category": "General purpose",
    "gpuNum": 0,
    "hideHardwareSpecs": false,
    "memoryGiB": 32,
    "name": "ml.t3.2xlarge",
    "vcpuNum": 8
   },
   {
    "_defaultOrder": 4,
    "_isFastLaunch": true,
    "category": "General purpose",
    "gpuNum": 0,
    "hideHardwareSpecs": false,
    "memoryGiB": 8,
    "name": "ml.m5.large",
    "vcpuNum": 2
   },
   {
    "_defaultOrder": 5,
    "_isFastLaunch": false,
    "category": "General purpose",
    "gpuNum": 0,
    "hideHardwareSpecs": false,
    "memoryGiB": 16,
    "name": "ml.m5.xlarge",
    "vcpuNum": 4
   },
   {
    "_defaultOrder": 6,
    "_isFastLaunch": false,
    "category": "General purpose",
    "gpuNum": 0,
    "hideHardwareSpecs": false,
    "memoryGiB": 32,
    "name": "ml.m5.2xlarge",
    "vcpuNum": 8
   },
   {
    "_defaultOrder": 7,
    "_isFastLaunch": false,
    "category": "General purpose",
    "gpuNum": 0,
    "hideHardwareSpecs": false,
    "memoryGiB": 64,
    "name": "ml.m5.4xlarge",
    "vcpuNum": 16
   },
   {
    "_defaultOrder": 8,
    "_isFastLaunch": false,
    "category": "General purpose",
    "gpuNum": 0,
    "hideHardwareSpecs": false,
    "memoryGiB": 128,
    "name": "ml.m5.8xlarge",
    "vcpuNum": 32
   },
   {
    "_defaultOrder": 9,
    "_isFastLaunch": false,
    "category": "General purpose",
    "gpuNum": 0,
    "hideHardwareSpecs": false,
    "memoryGiB": 192,
    "name": "ml.m5.12xlarge",
    "vcpuNum": 48
   },
   {
    "_defaultOrder": 10,
    "_isFastLaunch": false,
    "category": "General purpose",
    "gpuNum": 0,
    "hideHardwareSpecs": false,
    "memoryGiB": 256,
    "name": "ml.m5.16xlarge",
    "vcpuNum": 64
   },
   {
    "_defaultOrder": 11,
    "_isFastLaunch": false,
    "category": "General purpose",
    "gpuNum": 0,
    "hideHardwareSpecs": false,
    "memoryGiB": 384,
    "name": "ml.m5.24xlarge",
    "vcpuNum": 96
   },
   {
    "_defaultOrder": 12,
    "_isFastLaunch": false,
    "category": "General purpose",
    "gpuNum": 0,
    "hideHardwareSpecs": false,
    "memoryGiB": 8,
    "name": "ml.m5d.large",
    "vcpuNum": 2
   },
   {
    "_defaultOrder": 13,
    "_isFastLaunch": false,
    "category": "General purpose",
    "gpuNum": 0,
    "hideHardwareSpecs": false,
    "memoryGiB": 16,
    "name": "ml.m5d.xlarge",
    "vcpuNum": 4
   },
   {
    "_defaultOrder": 14,
    "_isFastLaunch": false,
    "category": "General purpose",
    "gpuNum": 0,
    "hideHardwareSpecs": false,
    "memoryGiB": 32,
    "name": "ml.m5d.2xlarge",
    "vcpuNum": 8
   },
   {
    "_defaultOrder": 15,
    "_isFastLaunch": false,
    "category": "General purpose",
    "gpuNum": 0,
    "hideHardwareSpecs": false,
    "memoryGiB": 64,
    "name": "ml.m5d.4xlarge",
    "vcpuNum": 16
   },
   {
    "_defaultOrder": 16,
    "_isFastLaunch": false,
    "category": "General purpose",
    "gpuNum": 0,
    "hideHardwareSpecs": false,
    "memoryGiB": 128,
    "name": "ml.m5d.8xlarge",
    "vcpuNum": 32
   },
   {
    "_defaultOrder": 17,
    "_isFastLaunch": false,
    "category": "General purpose",
    "gpuNum": 0,
    "hideHardwareSpecs": false,
    "memoryGiB": 192,
    "name": "ml.m5d.12xlarge",
    "vcpuNum": 48
   },
   {
    "_defaultOrder": 18,
    "_isFastLaunch": false,
    "category": "General purpose",
    "gpuNum": 0,
    "hideHardwareSpecs": false,
    "memoryGiB": 256,
    "name": "ml.m5d.16xlarge",
    "vcpuNum": 64
   },
   {
    "_defaultOrder": 19,
    "_isFastLaunch": false,
    "category": "General purpose",
    "gpuNum": 0,
    "hideHardwareSpecs": false,
    "memoryGiB": 384,
    "name": "ml.m5d.24xlarge",
    "vcpuNum": 96
   },
   {
    "_defaultOrder": 20,
    "_isFastLaunch": false,
    "category": "General purpose",
    "gpuNum": 0,
    "hideHardwareSpecs": true,
    "memoryGiB": 0,
    "name": "ml.geospatial.interactive",
    "supportedImageNames": [
     "sagemaker-geospatial-v1-0"
    ],
    "vcpuNum": 0
   },
   {
    "_defaultOrder": 21,
    "_isFastLaunch": true,
    "category": "Compute optimized",
    "gpuNum": 0,
    "hideHardwareSpecs": false,
    "memoryGiB": 4,
    "name": "ml.c5.large",
    "vcpuNum": 2
   },
   {
    "_defaultOrder": 22,
    "_isFastLaunch": false,
    "category": "Compute optimized",
    "gpuNum": 0,
    "hideHardwareSpecs": false,
    "memoryGiB": 8,
    "name": "ml.c5.xlarge",
    "vcpuNum": 4
   },
   {
    "_defaultOrder": 23,
    "_isFastLaunch": false,
    "category": "Compute optimized",
    "gpuNum": 0,
    "hideHardwareSpecs": false,
    "memoryGiB": 16,
    "name": "ml.c5.2xlarge",
    "vcpuNum": 8
   },
   {
    "_defaultOrder": 24,
    "_isFastLaunch": false,
    "category": "Compute optimized",
    "gpuNum": 0,
    "hideHardwareSpecs": false,
    "memoryGiB": 32,
    "name": "ml.c5.4xlarge",
    "vcpuNum": 16
   },
   {
    "_defaultOrder": 25,
    "_isFastLaunch": false,
    "category": "Compute optimized",
    "gpuNum": 0,
    "hideHardwareSpecs": false,
    "memoryGiB": 72,
    "name": "ml.c5.9xlarge",
    "vcpuNum": 36
   },
   {
    "_defaultOrder": 26,
    "_isFastLaunch": false,
    "category": "Compute optimized",
    "gpuNum": 0,
    "hideHardwareSpecs": false,
    "memoryGiB": 96,
    "name": "ml.c5.12xlarge",
    "vcpuNum": 48
   },
   {
    "_defaultOrder": 27,
    "_isFastLaunch": false,
    "category": "Compute optimized",
    "gpuNum": 0,
    "hideHardwareSpecs": false,
    "memoryGiB": 144,
    "name": "ml.c5.18xlarge",
    "vcpuNum": 72
   },
   {
    "_defaultOrder": 28,
    "_isFastLaunch": false,
    "category": "Compute optimized",
    "gpuNum": 0,
    "hideHardwareSpecs": false,
    "memoryGiB": 192,
    "name": "ml.c5.24xlarge",
    "vcpuNum": 96
   },
   {
    "_defaultOrder": 29,
    "_isFastLaunch": true,
    "category": "Accelerated computing",
    "gpuNum": 1,
    "hideHardwareSpecs": false,
    "memoryGiB": 16,
    "name": "ml.g4dn.xlarge",
    "vcpuNum": 4
   },
   {
    "_defaultOrder": 30,
    "_isFastLaunch": false,
    "category": "Accelerated computing",
    "gpuNum": 1,
    "hideHardwareSpecs": false,
    "memoryGiB": 32,
    "name": "ml.g4dn.2xlarge",
    "vcpuNum": 8
   },
   {
    "_defaultOrder": 31,
    "_isFastLaunch": false,
    "category": "Accelerated computing",
    "gpuNum": 1,
    "hideHardwareSpecs": false,
    "memoryGiB": 64,
    "name": "ml.g4dn.4xlarge",
    "vcpuNum": 16
   },
   {
    "_defaultOrder": 32,
    "_isFastLaunch": false,
    "category": "Accelerated computing",
    "gpuNum": 1,
    "hideHardwareSpecs": false,
    "memoryGiB": 128,
    "name": "ml.g4dn.8xlarge",
    "vcpuNum": 32
   },
   {
    "_defaultOrder": 33,
    "_isFastLaunch": false,
    "category": "Accelerated computing",
    "gpuNum": 4,
    "hideHardwareSpecs": false,
    "memoryGiB": 192,
    "name": "ml.g4dn.12xlarge",
    "vcpuNum": 48
   },
   {
    "_defaultOrder": 34,
    "_isFastLaunch": false,
    "category": "Accelerated computing",
    "gpuNum": 1,
    "hideHardwareSpecs": false,
    "memoryGiB": 256,
    "name": "ml.g4dn.16xlarge",
    "vcpuNum": 64
   },
   {
    "_defaultOrder": 35,
    "_isFastLaunch": false,
    "category": "Accelerated computing",
    "gpuNum": 1,
    "hideHardwareSpecs": false,
    "memoryGiB": 61,
    "name": "ml.p3.2xlarge",
    "vcpuNum": 8
   },
   {
    "_defaultOrder": 36,
    "_isFastLaunch": false,
    "category": "Accelerated computing",
    "gpuNum": 4,
    "hideHardwareSpecs": false,
    "memoryGiB": 244,
    "name": "ml.p3.8xlarge",
    "vcpuNum": 32
   },
   {
    "_defaultOrder": 37,
    "_isFastLaunch": false,
    "category": "Accelerated computing",
    "gpuNum": 8,
    "hideHardwareSpecs": false,
    "memoryGiB": 488,
    "name": "ml.p3.16xlarge",
    "vcpuNum": 64
   },
   {
    "_defaultOrder": 38,
    "_isFastLaunch": false,
    "category": "Accelerated computing",
    "gpuNum": 8,
    "hideHardwareSpecs": false,
    "memoryGiB": 768,
    "name": "ml.p3dn.24xlarge",
    "vcpuNum": 96
   },
   {
    "_defaultOrder": 39,
    "_isFastLaunch": false,
    "category": "Memory Optimized",
    "gpuNum": 0,
    "hideHardwareSpecs": false,
    "memoryGiB": 16,
    "name": "ml.r5.large",
    "vcpuNum": 2
   },
   {
    "_defaultOrder": 40,
    "_isFastLaunch": false,
    "category": "Memory Optimized",
    "gpuNum": 0,
    "hideHardwareSpecs": false,
    "memoryGiB": 32,
    "name": "ml.r5.xlarge",
    "vcpuNum": 4
   },
   {
    "_defaultOrder": 41,
    "_isFastLaunch": false,
    "category": "Memory Optimized",
    "gpuNum": 0,
    "hideHardwareSpecs": false,
    "memoryGiB": 64,
    "name": "ml.r5.2xlarge",
    "vcpuNum": 8
   },
   {
    "_defaultOrder": 42,
    "_isFastLaunch": false,
    "category": "Memory Optimized",
    "gpuNum": 0,
    "hideHardwareSpecs": false,
    "memoryGiB": 128,
    "name": "ml.r5.4xlarge",
    "vcpuNum": 16
   },
   {
    "_defaultOrder": 43,
    "_isFastLaunch": false,
    "category": "Memory Optimized",
    "gpuNum": 0,
    "hideHardwareSpecs": false,
    "memoryGiB": 256,
    "name": "ml.r5.8xlarge",
    "vcpuNum": 32
   },
   {
    "_defaultOrder": 44,
    "_isFastLaunch": false,
    "category": "Memory Optimized",
    "gpuNum": 0,
    "hideHardwareSpecs": false,
    "memoryGiB": 384,
    "name": "ml.r5.12xlarge",
    "vcpuNum": 48
   },
   {
    "_defaultOrder": 45,
    "_isFastLaunch": false,
    "category": "Memory Optimized",
    "gpuNum": 0,
    "hideHardwareSpecs": false,
    "memoryGiB": 512,
    "name": "ml.r5.16xlarge",
    "vcpuNum": 64
   },
   {
    "_defaultOrder": 46,
    "_isFastLaunch": false,
    "category": "Memory Optimized",
    "gpuNum": 0,
    "hideHardwareSpecs": false,
    "memoryGiB": 768,
    "name": "ml.r5.24xlarge",
    "vcpuNum": 96
   },
   {
    "_defaultOrder": 47,
    "_isFastLaunch": false,
    "category": "Accelerated computing",
    "gpuNum": 1,
    "hideHardwareSpecs": false,
    "memoryGiB": 16,
    "name": "ml.g5.xlarge",
    "vcpuNum": 4
   },
   {
    "_defaultOrder": 48,
    "_isFastLaunch": false,
    "category": "Accelerated computing",
    "gpuNum": 1,
    "hideHardwareSpecs": false,
    "memoryGiB": 32,
    "name": "ml.g5.2xlarge",
    "vcpuNum": 8
   },
   {
    "_defaultOrder": 49,
    "_isFastLaunch": false,
    "category": "Accelerated computing",
    "gpuNum": 1,
    "hideHardwareSpecs": false,
    "memoryGiB": 64,
    "name": "ml.g5.4xlarge",
    "vcpuNum": 16
   },
   {
    "_defaultOrder": 50,
    "_isFastLaunch": false,
    "category": "Accelerated computing",
    "gpuNum": 1,
    "hideHardwareSpecs": false,
    "memoryGiB": 128,
    "name": "ml.g5.8xlarge",
    "vcpuNum": 32
   },
   {
    "_defaultOrder": 51,
    "_isFastLaunch": false,
    "category": "Accelerated computing",
    "gpuNum": 1,
    "hideHardwareSpecs": false,
    "memoryGiB": 256,
    "name": "ml.g5.16xlarge",
    "vcpuNum": 64
   },
   {
    "_defaultOrder": 52,
    "_isFastLaunch": false,
    "category": "Accelerated computing",
    "gpuNum": 4,
    "hideHardwareSpecs": false,
    "memoryGiB": 192,
    "name": "ml.g5.12xlarge",
    "vcpuNum": 48
   },
   {
    "_defaultOrder": 53,
    "_isFastLaunch": false,
    "category": "Accelerated computing",
    "gpuNum": 4,
    "hideHardwareSpecs": false,
    "memoryGiB": 384,
    "name": "ml.g5.24xlarge",
    "vcpuNum": 96
   },
   {
    "_defaultOrder": 54,
    "_isFastLaunch": false,
    "category": "Accelerated computing",
    "gpuNum": 8,
    "hideHardwareSpecs": false,
    "memoryGiB": 768,
    "name": "ml.g5.48xlarge",
    "vcpuNum": 192
   },
   {
    "_defaultOrder": 55,
    "_isFastLaunch": false,
    "category": "Accelerated computing",
    "gpuNum": 8,
    "hideHardwareSpecs": false,
    "memoryGiB": 1152,
    "name": "ml.p4d.24xlarge",
    "vcpuNum": 96
   },
   {
    "_defaultOrder": 56,
    "_isFastLaunch": false,
    "category": "Accelerated computing",
    "gpuNum": 8,
    "hideHardwareSpecs": false,
    "memoryGiB": 1152,
    "name": "ml.p4de.24xlarge",
    "vcpuNum": 96
   }
  ],
  "instance_type": "ml.t3.medium",
  "kernelspec": {
   "display_name": "Python 3 (Data Science 3.0)",
   "language": "python",
   "name": "python3__SAGEMAKER_INTERNAL__arn:aws:sagemaker:us-east-1:081325390199:image/sagemaker-data-science-310-v1"
  },
  "language_info": {
   "codemirror_mode": {
    "name": "ipython",
    "version": 3
   },
   "file_extension": ".py",
   "mimetype": "text/x-python",
   "name": "python",
   "nbconvert_exporter": "python",
   "pygments_lexer": "ipython3",
   "version": "3.10.6"
  }
 },
 "nbformat": 4,
 "nbformat_minor": 5
}
