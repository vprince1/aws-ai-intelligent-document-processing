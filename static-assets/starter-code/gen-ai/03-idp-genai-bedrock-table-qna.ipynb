{
 "cells": [
  {
   "cell_type": "markdown",
   "id": "e9d4f2a5-17e0-4afe-8655-d679fba81853",
   "metadata": {},
   "source": [
    "## In-context Table Self-query with Intelligent Document Processing\n",
    "---\n",
    "\n",
    "<div class=\"alert alert-block alert-info\"> \n",
    "    <b>NOTE:</b> You will need to use a Jupyter Kernel with Python 3.9 or above to use this notebook. If you are in Amazon SageMaker Studio, you can use the \"Data Science 3.0\" image.\n",
    "</div>\n",
    "\n",
    "<div class=\"alert alert-block alert-warning\"> \n",
    "    <b>NOTE:</b> You will need 3rd party model access to Anthropic Claude V1 model, and Amazon Titan Embedding G1 Text model to be able to run this notebook. Verify if you have access to the models by going to <a href=\"https://console.aws.amazon.com/bedrock\" target=\"_blank\">Amazon Bedrock console</a> > left menu \"Model access\". The \"Access status\" for Anthropic Claude and Amazon Titan Embedding G1 Text must be in \"<span style=\"color:green;\">Access granted</span>\" status. If you do not have access, then click \"Edit\" button on the top right > select the model checkboxes > click \"Save changes\" button at the bottom. You should have access to the model within a few moments.\n",
    "</div>\n",
    "\n",
    "In this notebook we will walk through how to perform _\"self querying\"_ with table data wth tables present in documents. First we will be extracting the tables from a document using Amazon Textract using `AnalyzeDocument` API, generating the table data and then store the table data into a Vector DB in a very specific way, and then performing self-querying on the table data with a Anthropic Claude model via Amazon Bedrock and get precise answers from the model. "
   ]
  },
  {
   "cell_type": "code",
   "execution_count": null,
   "id": "2b5c17d6-64c4-4ea8-90f1-b3426fb76bd8",
   "metadata": {
    "scrolled": true,
    "tags": []
   },
   "outputs": [],
   "source": [
    "!pip install -U boto3 langchain chromadb lark\n",
    "!pip install amazon-textract-textractor amazon-textract-prettyprinter pypdf Pillow"
   ]
  },
  {
   "cell_type": "code",
   "execution_count": 2,
   "id": "7756f4b7-f2ff-4069-82cf-5adff4f5d610",
   "metadata": {
    "tags": []
   },
   "outputs": [
    {
     "name": "stdout",
     "output_type": "stream",
     "text": [
      "sagemaker.config INFO - Not applying SDK defaults from location: /etc/xdg/sagemaker/config.yaml\n",
      "sagemaker.config INFO - Not applying SDK defaults from location: /root/.config/sagemaker/config.yaml\n",
      "sagemaker.config INFO - Not applying SDK defaults from location: /etc/xdg/sagemaker/config.yaml\n",
      "sagemaker.config INFO - Not applying SDK defaults from location: /root/.config/sagemaker/config.yaml\n",
      "sagemaker.config INFO - Not applying SDK defaults from location: /etc/xdg/sagemaker/config.yaml\n",
      "sagemaker.config INFO - Not applying SDK defaults from location: /root/.config/sagemaker/config.yaml\n",
      "SageMaker bucket is sagemaker-us-east-1-710096454740, and SageMaker Execution Role is arn:aws:iam::710096454740:role/service-role/AmazonSageMaker-ExecutionRole-20220504T135260\n"
     ]
    }
   ],
   "source": [
    "import json\n",
    "import os\n",
    "import sys\n",
    "import sagemaker\n",
    "import boto3\n",
    "\n",
    "role = sagemaker.get_execution_role()\n",
    "data_bucket = sagemaker.Session().default_bucket()\n",
    "bedrock = boto3.client('bedrock-runtime')\n",
    "br = boto3.client('bedrock')\n",
    "s3 = boto3.client(\"s3\")\n",
    "print(f\"SageMaker bucket is {data_bucket}, and SageMaker Execution Role is {role}\")"
   ]
  },
  {
   "cell_type": "markdown",
   "id": "f9cbbbf6-56da-41dc-a7de-5496714fafc2",
   "metadata": {},
   "source": [
    "## Extract table data from the document using Amazon Textract\n",
    "---\n",
    "\n",
    "The sample document is in `/samples` directory. For this workshop, we will be using a sample bank statement document (`bank_statement.jpg`) that contains tables data. We will use the `amazon-textract-textractor` library to perform the API call to `AnalyzeDocument` with `TABLE` feature and also read the table data with the Textract response parser. Once the tables are extracted we will parse out "
   ]
  },
  {
   "cell_type": "code",
   "execution_count": 3,
   "id": "af2b1021-746e-45e0-b82c-f6378c1f1223",
   "metadata": {
    "tags": []
   },
   "outputs": [
    {
     "name": "stdout",
     "output_type": "stream",
     "text": [
      "Date      \tDescription             \tDeposits ($)\tWithdrawals ($)\tAmount ($)\n",
      "10/06/2021\tOpening Balance         \t            \t               \t4,250.00\n",
      "10/07/2021\tCash Deposit            \t1,250.00    \t               \t5,500.00\n",
      "10/10/2021\tUtility Charge          \t            \t245.35         \t5,254.65\n",
      "10/15/2021\tCheque Deposit          \t750.00      \t               \t6,004.65\n",
      "10/17/2021\tBill Payment - lululemon\t            \t350.25         \t5,654.40\n",
      "10/22/2021\tOnline Shopping         \t            \t380.00         \t5,274.40\n",
      "10/25/2021\tOnline Transfer         \t            \t450.00         \t4,824.40\n",
      "10/24/2021\tSalary Deposit          \t300.00      \t               \t5,124.40\n",
      "10/26/2021\tATM Deposit             \t150.00      \t               \t5,274.40\n",
      "10/27/2021\tBill Payment -GM Mart   \t            \t360.40         \t4,914.00\n",
      "10/28/2021\tWater Bill Payment      \t            \t150.00         \t4,764.00\n",
      "11/01/2021\tOnline Transfer         \t480.00      \t               \t5,244.00\n",
      "11/04/2021\tElectric Bill Payment   \t            \t180.50         \t5,063.50\n",
      "11/06/2021\tClosing Balance         \t            \t               \t5,063.50\n",
      "\n",
      "          \t****Total***            \t            \t               \t5,063.50\n",
      "\n",
      "\n",
      "Opening Balance  \t$ 4,250.00\n",
      "Total Deposits   \t$ 2,930.00\n",
      "Total Withdrawals\t$ 2,116.50\n",
      "Closing Balance  \t$ 5,063.50\n",
      "\n",
      "\n"
     ]
    }
   ],
   "source": [
    "from textractcaller.t_call import call_textract, Textract_Features\n",
    "from textractprettyprinter.t_pretty_print import Pretty_Print_Table_Format, Textract_Pretty_Print, get_string\n",
    "\n",
    "textract_json = call_textract(input_document=\"./samples/bank_statement.jpg\", features=[Textract_Features.TABLES])\n",
    "\n",
    "print(get_string(textract_json=textract_json,\n",
    "               table_format=Pretty_Print_Table_Format.tsv,\n",
    "               output_type=[Textract_Pretty_Print.TABLES]))"
   ]
  },
  {
   "cell_type": "markdown",
   "id": "b60b67a6-31ad-495a-bdcc-5be38b27182e",
   "metadata": {},
   "source": [
    "We notice that Textract has extracted two distinct tables from the document. In this walkthrough we will get the first table and perform Self-query on it using Langchain. There are two tables in this page, let's do Q&A on the first table. Note that we are going to use LangChain's `SelfQueryRetriever` which is helpful with Q&A with tables. As of this writing, FAISS is not supported for self-querying with LangChain, so we will use ChromaDB. For more information refer to the [Self-query LangChain documentation](https://python.langchain.com/docs/modules/data_connection/retrievers/self_query/)."
   ]
  },
  {
   "cell_type": "markdown",
   "id": "830eb1b8-bb94-4875-a55c-93da89f6b6c2",
   "metadata": {},
   "source": [
    "## Transform the extracted table data\n",
    "---\n",
    "\n",
    "Self query needs the table data to be formatted in a very specific way using LangChain's `Document` model. For example, here is what the structure looks like\n",
    "\n",
    "Table\n",
    "<table>\n",
    "    <tr>\n",
    "        <th>year</th>\n",
    "        <th>director</th>\n",
    "        <th>rating</th>\n",
    "        <th>movie</th>\n",
    "        <th>actor</th>\n",
    "    </tr>\n",
    "    <tr>\n",
    "        <td>2010</td>\n",
    "        <td>Christopher Nolan</td>\n",
    "        <td>8.2</td>\n",
    "        <td>Inception</td>\n",
    "        <td>Leo DiCaprio</td>\n",
    "    </tr>\n",
    "    <tr>\n",
    "        <td>2006</td>\n",
    "        <td>Satoshi Kon</td>\n",
    "        <td>8.6</td>\n",
    "        <td>Paprika</td>\n",
    "        <td>Megumi Hayashibara</td>\n",
    "    </tr>\n",
    "</table>\n",
    "\n",
    "```python\n",
    "docs = [\n",
    "    Document(\n",
    "        page_content=\"2010, Christopher Nolan, 8.2, Inception, Leo DiCaprio\",\n",
    "        metadata={\"year\": 2010, \n",
    "                  \"director\": \"Christopher Nolan\", \n",
    "                  \"rating\": 8.2, \n",
    "                  \"movie\": \"Inception\", \n",
    "                  \"actor\": \"Leo DiCaprio\"},\n",
    "    ),\n",
    "    Document(\n",
    "        page_content=\"2006, Satoshi Kon, 8.6, Paprika, Megumi Hayashibara\",\n",
    "        metadata={\"year\": 2006, \n",
    "                  \"director\": \"Satoshi Kon\", \n",
    "                  \"rating\": 8.6,\n",
    "                  \"movie\": \"Paprika\",\n",
    "                  \"actor\": \"Megumi Hayashibara\"},\n",
    "    )\n",
    "    ...\n",
    "]\n",
    "```\n",
    "\n",
    "Above, the table data rows represented by CSV string resides in the `page_content` key in the Document schema. The `metadata` section contains key-value pairs which are table header to cell value. The table may look something like below.\n",
    "\n",
    "We will transform the first table in the document using the same schema. We will do this by accessing the individual row/col data available in the Textract output using Textract response parser utility tool. Note that our table contains numbers and as such for self-query to work we need to convert numbers into int or float type appropriately as well."
   ]
  },
  {
   "cell_type": "code",
   "execution_count": 31,
   "id": "4467a437-0402-4ac3-b99b-318612e2dd5d",
   "metadata": {
    "scrolled": true,
    "tags": []
   },
   "outputs": [
    {
     "data": {
      "text/plain": [
       "[Document(page_content='10/06/2021,Opening Balance,,,4250.0', metadata={'Date': '10/06/2021', 'Description': 'Opening Balance', 'Deposits ($)': '', 'Withdrawals ($)': '', 'Amount ($)': 4250.0}),\n",
       " Document(page_content='10/07/2021,Cash Deposit,1250.0,,5500.0', metadata={'Date': '10/07/2021', 'Description': 'Cash Deposit', 'Deposits ($)': 1250.0, 'Withdrawals ($)': '', 'Amount ($)': 5500.0}),\n",
       " Document(page_content='10/10/2021,Utility Charge,,245.35,5254.65', metadata={'Date': '10/10/2021', 'Description': 'Utility Charge', 'Deposits ($)': '', 'Withdrawals ($)': 245.35, 'Amount ($)': 5254.65}),\n",
       " Document(page_content='10/15/2021,Cheque Deposit,750.0,,6004.65', metadata={'Date': '10/15/2021', 'Description': 'Cheque Deposit', 'Deposits ($)': 750.0, 'Withdrawals ($)': '', 'Amount ($)': 6004.65}),\n",
       " Document(page_content='10/17/2021,Bill Payment - lululemon,,350.25,5654.4', metadata={'Date': '10/17/2021', 'Description': 'Bill Payment - lululemon', 'Deposits ($)': '', 'Withdrawals ($)': 350.25, 'Amount ($)': 5654.4}),\n",
       " Document(page_content='10/22/2021,Online Shopping,,380.0,5274.4', metadata={'Date': '10/22/2021', 'Description': 'Online Shopping', 'Deposits ($)': '', 'Withdrawals ($)': 380.0, 'Amount ($)': 5274.4}),\n",
       " Document(page_content='10/25/2021,Online Transfer,,450.0,4824.4', metadata={'Date': '10/25/2021', 'Description': 'Online Transfer', 'Deposits ($)': '', 'Withdrawals ($)': 450.0, 'Amount ($)': 4824.4}),\n",
       " Document(page_content='10/24/2021,Salary Deposit,300.0,,5124.4', metadata={'Date': '10/24/2021', 'Description': 'Salary Deposit', 'Deposits ($)': 300.0, 'Withdrawals ($)': '', 'Amount ($)': 5124.4}),\n",
       " Document(page_content='10/26/2021,ATM Deposit,150.0,,5274.4', metadata={'Date': '10/26/2021', 'Description': 'ATM Deposit', 'Deposits ($)': 150.0, 'Withdrawals ($)': '', 'Amount ($)': 5274.4}),\n",
       " Document(page_content='10/27/2021,Bill Payment -GM Mart,,360.4,4914.0', metadata={'Date': '10/27/2021', 'Description': 'Bill Payment -GM Mart', 'Deposits ($)': '', 'Withdrawals ($)': 360.4, 'Amount ($)': 4914.0}),\n",
       " Document(page_content='10/28/2021,Water Bill Payment,,150.0,4764.0', metadata={'Date': '10/28/2021', 'Description': 'Water Bill Payment', 'Deposits ($)': '', 'Withdrawals ($)': 150.0, 'Amount ($)': 4764.0}),\n",
       " Document(page_content='11/01/2021,Online Transfer,480.0,,5244.0', metadata={'Date': '11/01/2021', 'Description': 'Online Transfer', 'Deposits ($)': 480.0, 'Withdrawals ($)': '', 'Amount ($)': 5244.0}),\n",
       " Document(page_content='11/04/2021,Electric Bill Payment,,180.5,5063.5', metadata={'Date': '11/04/2021', 'Description': 'Electric Bill Payment', 'Deposits ($)': '', 'Withdrawals ($)': 180.5, 'Amount ($)': 5063.5}),\n",
       " Document(page_content='11/06/2021,Closing Balance,,,5063.5', metadata={'Date': '11/06/2021', 'Description': 'Closing Balance', 'Deposits ($)': '', 'Withdrawals ($)': '', 'Amount ($)': 5063.5}),\n",
       " Document(page_content=',,,,', metadata={'Date': '', 'Description': '', 'Deposits ($)': '', 'Withdrawals ($)': '', 'Amount ($)': ''}),\n",
       " Document(page_content=',****Total***,,,5063.5', metadata={'Date': '', 'Description': '****Total***', 'Deposits ($)': '', 'Withdrawals ($)': '', 'Amount ($)': 5063.5}),\n",
       " Document(page_content=',,,,', metadata={'Date': '', 'Description': '', 'Deposits ($)': '', 'Withdrawals ($)': '', 'Amount ($)': ''})]"
      ]
     },
     "execution_count": 31,
     "metadata": {},
     "output_type": "execute_result"
    }
   ],
   "source": [
    "import csv\n",
    "from io import StringIO\n",
    "from trp import Document as TDoc\n",
    "from langchain.schema import Document\n",
    "\n",
    "doc = TDoc(textract_json)\n",
    "rows = []\n",
    "\n",
    "def detect_type(s):\n",
    "    if type(s) == 'NoneType': \n",
    "        return s\n",
    "    elif not isinstance(s, str):\n",
    "        s = str(s)\n",
    "    s = s.replace(',', '')\n",
    "    try:\n",
    "        return int(s)\n",
    "    except ValueError:\n",
    "        try:\n",
    "            return float(s)\n",
    "        except ValueError:\n",
    "            return s\n",
    "\n",
    "# Extract the first table data\n",
    "for page in doc.pages:\n",
    "    if page.tables:\n",
    "        for row in page.tables[0].rows:\n",
    "            cells = [detect_type(cell.text.strip()) for cell in row.cells]\n",
    "            rows.append(cells)\n",
    "\n",
    "headers = rows[0]\n",
    "full_table = []\n",
    "\n",
    "for row in rows[1:]:\n",
    "    output = StringIO()\n",
    "    csv_writer = csv.writer(output)\n",
    "    csv_writer.writerow(row)\n",
    "    csv_string = output.getvalue()\n",
    "    row_meta = {headers[i]: detect_type(cell) for i, cell in enumerate(row)}\n",
    "    full_table.append(Document(page_content=csv_string.strip(), metadata=row_meta))\n",
    "\n",
    "full_table\n"
   ]
  },
  {
   "cell_type": "markdown",
   "id": "601c1dcd-736f-4385-92b5-634f2e0629da",
   "metadata": {},
   "source": [
    "\n",
    "## Store the table in Vector DB\n",
    "---\n",
    "\n",
    "We will now store this into our vector database by first generating embeddings. "
   ]
  },
  {
   "cell_type": "code",
   "execution_count": 34,
   "id": "dc7fdbde-5025-455d-a3dd-f051b3cb7727",
   "metadata": {
    "tags": []
   },
   "outputs": [],
   "source": [
    "from langchain.embeddings import BedrockEmbeddings\n",
    "from langchain.vectorstores import Chroma\n",
    "\n",
    "# Ensure that you have enabled amazon.titan-embed-text-v1 model in Amazon Bedrock console\n",
    "embeddings = BedrockEmbeddings(client=bedrock,model_id=\"amazon.titan-embed-text-v1\")\n",
    "vector_db = Chroma.from_documents(documents=full_table,embedding=embeddings)"
   ]
  },
  {
   "cell_type": "code",
   "execution_count": 33,
   "id": "fd5dcb55-0a62-47d4-9f13-e97044547265",
   "metadata": {
    "tags": []
   },
   "outputs": [],
   "source": [
    "# vector_db.delete_collection()"
   ]
  },
  {
   "cell_type": "markdown",
   "id": "77646708-518b-49a6-9704-65b8b2183e9d",
   "metadata": {},
   "source": [
    "## Self Query Retriever with Amazon Bedrock and Anthropic Claude\n",
    "---\n",
    "\n",
    "We will now create a self-query retriever, much like the retriever we used in the _\"In-context QA\"_ notebook. However this time we will use some additional information to create the retriever in addition to the vector database. We created a special structure using the table data in the previous code cell (`full_table`), we will also need to define the table definition using LangChain's `AttributeInfo` model. This will help the LLM understand what each of the column/header actually means."
   ]
  },
  {
   "cell_type": "code",
   "execution_count": 35,
   "id": "5cf3a974-28be-4507-b59c-3a0d4201b372",
   "metadata": {
    "tags": []
   },
   "outputs": [],
   "source": [
    "from langchain.llms import Bedrock\n",
    "from langchain.retrievers.self_query.base import SelfQueryRetriever\n",
    "from langchain.chains.query_constructor.base import AttributeInfo\n",
    "\n",
    "metadata_field_info = [\n",
    "    AttributeInfo(\n",
    "        name=\"Date\",\n",
    "        description=\"Date of the bank transaction\",\n",
    "        type=\"string\",\n",
    "    ),\n",
    "    AttributeInfo(\n",
    "        name=\"Description\",\n",
    "        description=\"Description of the bank transaction\",\n",
    "        type=\"string\",\n",
    "    ),\n",
    "    AttributeInfo(\n",
    "        name=\"Deposits ($)\",\n",
    "        description=\"The dollar amount deposited into the bank account\",\n",
    "        type=\"integer\",\n",
    "    ),\n",
    "    AttributeInfo(\n",
    "        name=\"Withdrawals ($)\",\n",
    "        description=\"The dollar amount withdrawn from the bank account\",\n",
    "        type=\"integer\",\n",
    "    ),\n",
    "    AttributeInfo(\n",
    "        name=\"Amount ($)\",\n",
    "        description=\"The total dollar amount balance in the bank account\",\n",
    "        type=\"integer\",\n",
    "    )\n",
    "]\n",
    "document_content_description = \"A transaction in a bank statement\"\n",
    "\n",
    "bedrock_llm = Bedrock(client=bedrock, model_id=\"anthropic.claude-v1\")\n",
    "retriever = SelfQueryRetriever.from_llm(\n",
    "    bedrock_llm, vector_db, document_content_description, metadata_field_info, verbose=True\n",
    ")"
   ]
  },
  {
   "cell_type": "markdown",
   "id": "d7d75fa0-78e6-43e4-b0eb-be722f782b3b",
   "metadata": {},
   "source": [
    "Let's run a query where the withdrawal amount was greater than 300."
   ]
  },
  {
   "cell_type": "code",
   "execution_count": 42,
   "id": "27f6e369-442a-4cf1-810d-e4ebc6b4800a",
   "metadata": {
    "tags": []
   },
   "outputs": [
    {
     "name": "stdout",
     "output_type": "stream",
     "text": [
      "query=' ' filter=Comparison(comparator=<Comparator.GT: 'gt'>, attribute='Withdrawals ($)', value=300) limit=None\n",
      "10/27/2021,Bill Payment -GM Mart,,360.4,4914.0\n",
      "10/17/2021,Bill Payment - lululemon,,350.25,5654.4\n",
      "10/25/2021,Online Transfer,,450.0,4824.4\n",
      "10/22/2021,Online Shopping,,380.0,5274.4\n"
     ]
    }
   ],
   "source": [
    "response=retriever.get_relevant_documents(\"What are the transactions with withdrawals greater than 300\")\n",
    "for r in response:\n",
    "    print(r.page_content)"
   ]
  },
  {
   "cell_type": "markdown",
   "id": "87d0a94a-a0b8-4f4c-ac8f-65183b08aaba",
   "metadata": {},
   "source": [
    "Let's run a query where the transaction amount was greater than 5000."
   ]
  },
  {
   "cell_type": "code",
   "execution_count": 41,
   "id": "0e25164b-317b-4e55-a4d2-99d8d6c43f88",
   "metadata": {
    "tags": []
   },
   "outputs": [
    {
     "name": "stdout",
     "output_type": "stream",
     "text": [
      "query=' ' filter=Comparison(comparator=<Comparator.GT: 'gt'>, attribute='Deposits ($)', value=400) limit=None\n",
      "11/01/2021,Online Transfer,480.0,,5244.0\n",
      "10/15/2021,Cheque Deposit,750.0,,6004.65\n",
      "10/07/2021,Cash Deposit,1250.0,,5500.0\n"
     ]
    }
   ],
   "source": [
    "response=retriever.get_relevant_documents(\"What are the transactions with deposits greater than 400\")\n",
    "for r in response:\n",
    "    print(r.page_content)"
   ]
  },
  {
   "cell_type": "code",
   "execution_count": 44,
   "id": "8ff8f9a0-2825-4536-9892-0999f4eee56f",
   "metadata": {
    "tags": []
   },
   "outputs": [
    {
     "name": "stdout",
     "output_type": "stream",
     "text": [
      "query='bill payment' filter=None limit=None\n",
      "11/04/2021,Electric Bill Payment,,180.5,5063.5\n",
      "10/27/2021,Bill Payment -GM Mart,,360.4,4914.0\n",
      "10/28/2021,Water Bill Payment,,150.0,4764.0\n",
      "10/17/2021,Bill Payment - lululemon,,350.25,5654.4\n"
     ]
    }
   ],
   "source": [
    "response=retriever.get_relevant_documents(\"What are the bill payment transactions\")\n",
    "for r in response:\n",
    "    print(r.page_content)"
   ]
  },
  {
   "cell_type": "code",
   "execution_count": 48,
   "id": "3983802f-f677-4b0b-93cc-5b17faafc1e1",
   "metadata": {
    "tags": []
   },
   "outputs": [
    {
     "name": "stdout",
     "output_type": "stream",
     "text": [
      "query=' ' filter=Comparison(comparator=<Comparator.GT: 'gt'>, attribute='Deposits ($)', value=0) limit=None\n",
      "10/24/2021,Salary Deposit,300.0,,5124.4\n",
      "11/01/2021,Online Transfer,480.0,,5244.0\n",
      "10/15/2021,Cheque Deposit,750.0,,6004.65\n",
      "10/26/2021,ATM Deposit,150.0,,5274.4\n"
     ]
    }
   ],
   "source": [
    "response=retriever.get_relevant_documents(\"What are the deposit transactions\")\n",
    "for r in response:\n",
    "    print(r.page_content)"
   ]
  },
  {
   "cell_type": "code",
   "execution_count": null,
   "id": "bad1e003-72f5-40bc-aa38-d198f26aac95",
   "metadata": {},
   "outputs": [],
   "source": []
  }
 ],
 "metadata": {
  "availableInstances": [
   {
    "_defaultOrder": 0,
    "_isFastLaunch": true,
    "category": "General purpose",
    "gpuNum": 0,
    "hideHardwareSpecs": false,
    "memoryGiB": 4,
    "name": "ml.t3.medium",
    "vcpuNum": 2
   },
   {
    "_defaultOrder": 1,
    "_isFastLaunch": false,
    "category": "General purpose",
    "gpuNum": 0,
    "hideHardwareSpecs": false,
    "memoryGiB": 8,
    "name": "ml.t3.large",
    "vcpuNum": 2
   },
   {
    "_defaultOrder": 2,
    "_isFastLaunch": false,
    "category": "General purpose",
    "gpuNum": 0,
    "hideHardwareSpecs": false,
    "memoryGiB": 16,
    "name": "ml.t3.xlarge",
    "vcpuNum": 4
   },
   {
    "_defaultOrder": 3,
    "_isFastLaunch": false,
    "category": "General purpose",
    "gpuNum": 0,
    "hideHardwareSpecs": false,
    "memoryGiB": 32,
    "name": "ml.t3.2xlarge",
    "vcpuNum": 8
   },
   {
    "_defaultOrder": 4,
    "_isFastLaunch": true,
    "category": "General purpose",
    "gpuNum": 0,
    "hideHardwareSpecs": false,
    "memoryGiB": 8,
    "name": "ml.m5.large",
    "vcpuNum": 2
   },
   {
    "_defaultOrder": 5,
    "_isFastLaunch": false,
    "category": "General purpose",
    "gpuNum": 0,
    "hideHardwareSpecs": false,
    "memoryGiB": 16,
    "name": "ml.m5.xlarge",
    "vcpuNum": 4
   },
   {
    "_defaultOrder": 6,
    "_isFastLaunch": false,
    "category": "General purpose",
    "gpuNum": 0,
    "hideHardwareSpecs": false,
    "memoryGiB": 32,
    "name": "ml.m5.2xlarge",
    "vcpuNum": 8
   },
   {
    "_defaultOrder": 7,
    "_isFastLaunch": false,
    "category": "General purpose",
    "gpuNum": 0,
    "hideHardwareSpecs": false,
    "memoryGiB": 64,
    "name": "ml.m5.4xlarge",
    "vcpuNum": 16
   },
   {
    "_defaultOrder": 8,
    "_isFastLaunch": false,
    "category": "General purpose",
    "gpuNum": 0,
    "hideHardwareSpecs": false,
    "memoryGiB": 128,
    "name": "ml.m5.8xlarge",
    "vcpuNum": 32
   },
   {
    "_defaultOrder": 9,
    "_isFastLaunch": false,
    "category": "General purpose",
    "gpuNum": 0,
    "hideHardwareSpecs": false,
    "memoryGiB": 192,
    "name": "ml.m5.12xlarge",
    "vcpuNum": 48
   },
   {
    "_defaultOrder": 10,
    "_isFastLaunch": false,
    "category": "General purpose",
    "gpuNum": 0,
    "hideHardwareSpecs": false,
    "memoryGiB": 256,
    "name": "ml.m5.16xlarge",
    "vcpuNum": 64
   },
   {
    "_defaultOrder": 11,
    "_isFastLaunch": false,
    "category": "General purpose",
    "gpuNum": 0,
    "hideHardwareSpecs": false,
    "memoryGiB": 384,
    "name": "ml.m5.24xlarge",
    "vcpuNum": 96
   },
   {
    "_defaultOrder": 12,
    "_isFastLaunch": false,
    "category": "General purpose",
    "gpuNum": 0,
    "hideHardwareSpecs": false,
    "memoryGiB": 8,
    "name": "ml.m5d.large",
    "vcpuNum": 2
   },
   {
    "_defaultOrder": 13,
    "_isFastLaunch": false,
    "category": "General purpose",
    "gpuNum": 0,
    "hideHardwareSpecs": false,
    "memoryGiB": 16,
    "name": "ml.m5d.xlarge",
    "vcpuNum": 4
   },
   {
    "_defaultOrder": 14,
    "_isFastLaunch": false,
    "category": "General purpose",
    "gpuNum": 0,
    "hideHardwareSpecs": false,
    "memoryGiB": 32,
    "name": "ml.m5d.2xlarge",
    "vcpuNum": 8
   },
   {
    "_defaultOrder": 15,
    "_isFastLaunch": false,
    "category": "General purpose",
    "gpuNum": 0,
    "hideHardwareSpecs": false,
    "memoryGiB": 64,
    "name": "ml.m5d.4xlarge",
    "vcpuNum": 16
   },
   {
    "_defaultOrder": 16,
    "_isFastLaunch": false,
    "category": "General purpose",
    "gpuNum": 0,
    "hideHardwareSpecs": false,
    "memoryGiB": 128,
    "name": "ml.m5d.8xlarge",
    "vcpuNum": 32
   },
   {
    "_defaultOrder": 17,
    "_isFastLaunch": false,
    "category": "General purpose",
    "gpuNum": 0,
    "hideHardwareSpecs": false,
    "memoryGiB": 192,
    "name": "ml.m5d.12xlarge",
    "vcpuNum": 48
   },
   {
    "_defaultOrder": 18,
    "_isFastLaunch": false,
    "category": "General purpose",
    "gpuNum": 0,
    "hideHardwareSpecs": false,
    "memoryGiB": 256,
    "name": "ml.m5d.16xlarge",
    "vcpuNum": 64
   },
   {
    "_defaultOrder": 19,
    "_isFastLaunch": false,
    "category": "General purpose",
    "gpuNum": 0,
    "hideHardwareSpecs": false,
    "memoryGiB": 384,
    "name": "ml.m5d.24xlarge",
    "vcpuNum": 96
   },
   {
    "_defaultOrder": 20,
    "_isFastLaunch": false,
    "category": "General purpose",
    "gpuNum": 0,
    "hideHardwareSpecs": true,
    "memoryGiB": 0,
    "name": "ml.geospatial.interactive",
    "supportedImageNames": [
     "sagemaker-geospatial-v1-0"
    ],
    "vcpuNum": 0
   },
   {
    "_defaultOrder": 21,
    "_isFastLaunch": true,
    "category": "Compute optimized",
    "gpuNum": 0,
    "hideHardwareSpecs": false,
    "memoryGiB": 4,
    "name": "ml.c5.large",
    "vcpuNum": 2
   },
   {
    "_defaultOrder": 22,
    "_isFastLaunch": false,
    "category": "Compute optimized",
    "gpuNum": 0,
    "hideHardwareSpecs": false,
    "memoryGiB": 8,
    "name": "ml.c5.xlarge",
    "vcpuNum": 4
   },
   {
    "_defaultOrder": 23,
    "_isFastLaunch": false,
    "category": "Compute optimized",
    "gpuNum": 0,
    "hideHardwareSpecs": false,
    "memoryGiB": 16,
    "name": "ml.c5.2xlarge",
    "vcpuNum": 8
   },
   {
    "_defaultOrder": 24,
    "_isFastLaunch": false,
    "category": "Compute optimized",
    "gpuNum": 0,
    "hideHardwareSpecs": false,
    "memoryGiB": 32,
    "name": "ml.c5.4xlarge",
    "vcpuNum": 16
   },
   {
    "_defaultOrder": 25,
    "_isFastLaunch": false,
    "category": "Compute optimized",
    "gpuNum": 0,
    "hideHardwareSpecs": false,
    "memoryGiB": 72,
    "name": "ml.c5.9xlarge",
    "vcpuNum": 36
   },
   {
    "_defaultOrder": 26,
    "_isFastLaunch": false,
    "category": "Compute optimized",
    "gpuNum": 0,
    "hideHardwareSpecs": false,
    "memoryGiB": 96,
    "name": "ml.c5.12xlarge",
    "vcpuNum": 48
   },
   {
    "_defaultOrder": 27,
    "_isFastLaunch": false,
    "category": "Compute optimized",
    "gpuNum": 0,
    "hideHardwareSpecs": false,
    "memoryGiB": 144,
    "name": "ml.c5.18xlarge",
    "vcpuNum": 72
   },
   {
    "_defaultOrder": 28,
    "_isFastLaunch": false,
    "category": "Compute optimized",
    "gpuNum": 0,
    "hideHardwareSpecs": false,
    "memoryGiB": 192,
    "name": "ml.c5.24xlarge",
    "vcpuNum": 96
   },
   {
    "_defaultOrder": 29,
    "_isFastLaunch": true,
    "category": "Accelerated computing",
    "gpuNum": 1,
    "hideHardwareSpecs": false,
    "memoryGiB": 16,
    "name": "ml.g4dn.xlarge",
    "vcpuNum": 4
   },
   {
    "_defaultOrder": 30,
    "_isFastLaunch": false,
    "category": "Accelerated computing",
    "gpuNum": 1,
    "hideHardwareSpecs": false,
    "memoryGiB": 32,
    "name": "ml.g4dn.2xlarge",
    "vcpuNum": 8
   },
   {
    "_defaultOrder": 31,
    "_isFastLaunch": false,
    "category": "Accelerated computing",
    "gpuNum": 1,
    "hideHardwareSpecs": false,
    "memoryGiB": 64,
    "name": "ml.g4dn.4xlarge",
    "vcpuNum": 16
   },
   {
    "_defaultOrder": 32,
    "_isFastLaunch": false,
    "category": "Accelerated computing",
    "gpuNum": 1,
    "hideHardwareSpecs": false,
    "memoryGiB": 128,
    "name": "ml.g4dn.8xlarge",
    "vcpuNum": 32
   },
   {
    "_defaultOrder": 33,
    "_isFastLaunch": false,
    "category": "Accelerated computing",
    "gpuNum": 4,
    "hideHardwareSpecs": false,
    "memoryGiB": 192,
    "name": "ml.g4dn.12xlarge",
    "vcpuNum": 48
   },
   {
    "_defaultOrder": 34,
    "_isFastLaunch": false,
    "category": "Accelerated computing",
    "gpuNum": 1,
    "hideHardwareSpecs": false,
    "memoryGiB": 256,
    "name": "ml.g4dn.16xlarge",
    "vcpuNum": 64
   },
   {
    "_defaultOrder": 35,
    "_isFastLaunch": false,
    "category": "Accelerated computing",
    "gpuNum": 1,
    "hideHardwareSpecs": false,
    "memoryGiB": 61,
    "name": "ml.p3.2xlarge",
    "vcpuNum": 8
   },
   {
    "_defaultOrder": 36,
    "_isFastLaunch": false,
    "category": "Accelerated computing",
    "gpuNum": 4,
    "hideHardwareSpecs": false,
    "memoryGiB": 244,
    "name": "ml.p3.8xlarge",
    "vcpuNum": 32
   },
   {
    "_defaultOrder": 37,
    "_isFastLaunch": false,
    "category": "Accelerated computing",
    "gpuNum": 8,
    "hideHardwareSpecs": false,
    "memoryGiB": 488,
    "name": "ml.p3.16xlarge",
    "vcpuNum": 64
   },
   {
    "_defaultOrder": 38,
    "_isFastLaunch": false,
    "category": "Accelerated computing",
    "gpuNum": 8,
    "hideHardwareSpecs": false,
    "memoryGiB": 768,
    "name": "ml.p3dn.24xlarge",
    "vcpuNum": 96
   },
   {
    "_defaultOrder": 39,
    "_isFastLaunch": false,
    "category": "Memory Optimized",
    "gpuNum": 0,
    "hideHardwareSpecs": false,
    "memoryGiB": 16,
    "name": "ml.r5.large",
    "vcpuNum": 2
   },
   {
    "_defaultOrder": 40,
    "_isFastLaunch": false,
    "category": "Memory Optimized",
    "gpuNum": 0,
    "hideHardwareSpecs": false,
    "memoryGiB": 32,
    "name": "ml.r5.xlarge",
    "vcpuNum": 4
   },
   {
    "_defaultOrder": 41,
    "_isFastLaunch": false,
    "category": "Memory Optimized",
    "gpuNum": 0,
    "hideHardwareSpecs": false,
    "memoryGiB": 64,
    "name": "ml.r5.2xlarge",
    "vcpuNum": 8
   },
   {
    "_defaultOrder": 42,
    "_isFastLaunch": false,
    "category": "Memory Optimized",
    "gpuNum": 0,
    "hideHardwareSpecs": false,
    "memoryGiB": 128,
    "name": "ml.r5.4xlarge",
    "vcpuNum": 16
   },
   {
    "_defaultOrder": 43,
    "_isFastLaunch": false,
    "category": "Memory Optimized",
    "gpuNum": 0,
    "hideHardwareSpecs": false,
    "memoryGiB": 256,
    "name": "ml.r5.8xlarge",
    "vcpuNum": 32
   },
   {
    "_defaultOrder": 44,
    "_isFastLaunch": false,
    "category": "Memory Optimized",
    "gpuNum": 0,
    "hideHardwareSpecs": false,
    "memoryGiB": 384,
    "name": "ml.r5.12xlarge",
    "vcpuNum": 48
   },
   {
    "_defaultOrder": 45,
    "_isFastLaunch": false,
    "category": "Memory Optimized",
    "gpuNum": 0,
    "hideHardwareSpecs": false,
    "memoryGiB": 512,
    "name": "ml.r5.16xlarge",
    "vcpuNum": 64
   },
   {
    "_defaultOrder": 46,
    "_isFastLaunch": false,
    "category": "Memory Optimized",
    "gpuNum": 0,
    "hideHardwareSpecs": false,
    "memoryGiB": 768,
    "name": "ml.r5.24xlarge",
    "vcpuNum": 96
   },
   {
    "_defaultOrder": 47,
    "_isFastLaunch": false,
    "category": "Accelerated computing",
    "gpuNum": 1,
    "hideHardwareSpecs": false,
    "memoryGiB": 16,
    "name": "ml.g5.xlarge",
    "vcpuNum": 4
   },
   {
    "_defaultOrder": 48,
    "_isFastLaunch": false,
    "category": "Accelerated computing",
    "gpuNum": 1,
    "hideHardwareSpecs": false,
    "memoryGiB": 32,
    "name": "ml.g5.2xlarge",
    "vcpuNum": 8
   },
   {
    "_defaultOrder": 49,
    "_isFastLaunch": false,
    "category": "Accelerated computing",
    "gpuNum": 1,
    "hideHardwareSpecs": false,
    "memoryGiB": 64,
    "name": "ml.g5.4xlarge",
    "vcpuNum": 16
   },
   {
    "_defaultOrder": 50,
    "_isFastLaunch": false,
    "category": "Accelerated computing",
    "gpuNum": 1,
    "hideHardwareSpecs": false,
    "memoryGiB": 128,
    "name": "ml.g5.8xlarge",
    "vcpuNum": 32
   },
   {
    "_defaultOrder": 51,
    "_isFastLaunch": false,
    "category": "Accelerated computing",
    "gpuNum": 1,
    "hideHardwareSpecs": false,
    "memoryGiB": 256,
    "name": "ml.g5.16xlarge",
    "vcpuNum": 64
   },
   {
    "_defaultOrder": 52,
    "_isFastLaunch": false,
    "category": "Accelerated computing",
    "gpuNum": 4,
    "hideHardwareSpecs": false,
    "memoryGiB": 192,
    "name": "ml.g5.12xlarge",
    "vcpuNum": 48
   },
   {
    "_defaultOrder": 53,
    "_isFastLaunch": false,
    "category": "Accelerated computing",
    "gpuNum": 4,
    "hideHardwareSpecs": false,
    "memoryGiB": 384,
    "name": "ml.g5.24xlarge",
    "vcpuNum": 96
   },
   {
    "_defaultOrder": 54,
    "_isFastLaunch": false,
    "category": "Accelerated computing",
    "gpuNum": 8,
    "hideHardwareSpecs": false,
    "memoryGiB": 768,
    "name": "ml.g5.48xlarge",
    "vcpuNum": 192
   },
   {
    "_defaultOrder": 55,
    "_isFastLaunch": false,
    "category": "Accelerated computing",
    "gpuNum": 8,
    "hideHardwareSpecs": false,
    "memoryGiB": 1152,
    "name": "ml.p4d.24xlarge",
    "vcpuNum": 96
   },
   {
    "_defaultOrder": 56,
    "_isFastLaunch": false,
    "category": "Accelerated computing",
    "gpuNum": 8,
    "hideHardwareSpecs": false,
    "memoryGiB": 1152,
    "name": "ml.p4de.24xlarge",
    "vcpuNum": 96
   }
  ],
  "instance_type": "ml.t3.medium",
  "kernelspec": {
   "display_name": "Python 3 (Data Science 3.0)",
   "language": "python",
   "name": "python3__SAGEMAKER_INTERNAL__arn:aws:sagemaker:us-east-1:081325390199:image/sagemaker-data-science-310-v1"
  },
  "language_info": {
   "codemirror_mode": {
    "name": "ipython",
    "version": 3
   },
   "file_extension": ".py",
   "mimetype": "text/x-python",
   "name": "python",
   "nbconvert_exporter": "python",
   "pygments_lexer": "ipython3",
   "version": "3.10.6"
  }
 },
 "nbformat": 4,
 "nbformat_minor": 5
}
